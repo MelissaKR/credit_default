{
 "cells": [
  {
   "cell_type": "markdown",
   "metadata": {},
   "source": [
    "# Predicting Credit Card Defaults"
   ]
  },
  {
   "cell_type": "markdown",
   "metadata": {},
   "source": [
    "The goal of this project is to predict whether customers will default on their next month bill.\n",
    "\n",
    "The steps involved in this project are:\n",
    "1. We first get the data from [BigQuery](#bigquery)\n",
    "2. We need to [analyze the data](#data-analysis), in terms of whether the data is disporportionate in terms of the target values, as well as studying the distribution of a number of columns.\n",
    "3. We then go ahead and build and deploy [the model](#build-model). We will do it in two steps; first we need to [preprocess](#preprocess) the data, create a pipeline, [train](#train) the model, tune [hyperparameters](#hyperparameters), and then [deploy](#deploy) the model on ML engine and make [predictions](#predict).\n",
    "\n",
    "\n",
    "\n",
    "\n",
    "First off, let's set the environmental variables required to run jobs on GCP, and import all required libraries."
   ]
  },
  {
   "cell_type": "code",
   "execution_count": 201,
   "metadata": {},
   "outputs": [],
   "source": [
    "BUCKET = 'credit_card_default'  \n",
    "PROJECT = 'subtle-digit-257500'    \n",
    "REGION = 'us-central1'  "
   ]
  },
  {
   "cell_type": "code",
   "execution_count": 34,
   "metadata": {},
   "outputs": [],
   "source": [
    "import os\n",
    "os.environ['BUCKET'] = BUCKET\n",
    "os.environ['PROJECT'] = PROJECT\n",
    "os.environ['REGION'] = REGION"
   ]
  },
  {
   "cell_type": "code",
   "execution_count": 61,
   "metadata": {},
   "outputs": [],
   "source": [
    "from matplotlib import pyplot as plt\n",
    "import matplotlib.cm as cm\n",
    "plt.style.use('ggplot')\n",
    "import numpy as np\n",
    "import pandas as pd\n",
    "\n",
    "import datetime, os\n",
    "\n",
    "import seaborn as sns\n",
    "%matplotlib inline \n",
    "\n",
    "from google.cloud import bigquery\n",
    "\n",
    "### Not show warnings about the Python libraries\n",
    "import warnings\n",
    "warnings.filterwarnings('ignore')"
   ]
  },
  {
   "cell_type": "markdown",
   "metadata": {},
   "source": [
    "Next, we'll create a new bucket on Cloud Storage."
   ]
  },
  {
   "cell_type": "code",
   "execution_count": 4,
   "metadata": {},
   "outputs": [],
   "source": [
    "%%bash\n",
    "if ! gsutil ls | grep -q gs://${BUCKET}/; then\n",
    "  gsutil mb -l ${REGION} gs://${BUCKET}\n",
    "fi"
   ]
  },
  {
   "cell_type": "markdown",
   "metadata": {},
   "source": [
    "<a id='bigquery'></a>"
   ]
  },
  {
   "cell_type": "markdown",
   "metadata": {},
   "source": [
    "## Getting data from BigQuery\n",
    "\n",
    "Let's query the required data from Big Query to familiarize ourself with the data."
   ]
  },
  {
   "cell_type": "code",
   "execution_count": 36,
   "metadata": {},
   "outputs": [],
   "source": [
    "query = \"\"\"\n",
    "SELECT \n",
    "    ABS(FARM_FINGERPRINT(CAST(ID AS STRING))) AS hashid,\n",
    "    LIMIT_BAL,\n",
    "    SEX,\n",
    "    EDUCATION,\n",
    "    MARRIAGE,\n",
    "    AGE,\n",
    "    PAY_0 AS PAY_1,\n",
    "    PAY_2,\n",
    "    PAY_3,\n",
    "    PAY_4,\n",
    "    PAY_5,\n",
    "    PAY_6,\n",
    "    CAST(BILL_AMT1 AS FLOAT64) AS BILL_AMT1,\n",
    "    CAST(BILL_AMT2 AS FLOAT64) AS BILL_AMT2,\n",
    "    CAST(BILL_AMT3 AS FLOAT64) AS BILL_AMT3,\n",
    "    CAST(BILL_AMT4 AS FLOAT64) AS BILL_AMT4,\n",
    "    CAST(BILL_AMT5 AS FLOAT64) AS BILL_AMT5,\n",
    "    CAST(BILL_AMT6 AS FLOAT64) AS BILL_AMT6,\n",
    "    CAST(PAY_AMT1 AS FLOAT64) AS PAY_AMT1,\n",
    "    CAST(PAY_AMT2 AS FLOAT64) AS PAY_AMT2,\n",
    "    CAST(PAY_AMT3 AS FLOAT64) AS PAY_AMT3,\n",
    "    CAST(PAY_AMT4 AS FLOAT64) AS PAY_AMT4,\n",
    "    CAST(PAY_AMT5 AS FLOAT64) AS PAY_AMT5,\n",
    "    CAST(PAY_AMT6 AS FLOAT64) AS PAY_AMT6,\n",
    "    CAST(default_payment_next_month AS INT64) AS default_payment\n",
    "FROM\n",
    "  `subtle-digit-257500.credit_card.credit_card_1`\n",
    "\"\"\""
   ]
  },
  {
   "cell_type": "code",
   "execution_count": 37,
   "metadata": {},
   "outputs": [
    {
     "data": {
      "text/html": [
       "<div>\n",
       "<style scoped>\n",
       "    .dataframe tbody tr th:only-of-type {\n",
       "        vertical-align: middle;\n",
       "    }\n",
       "\n",
       "    .dataframe tbody tr th {\n",
       "        vertical-align: top;\n",
       "    }\n",
       "\n",
       "    .dataframe thead th {\n",
       "        text-align: right;\n",
       "    }\n",
       "</style>\n",
       "<table border=\"1\" class=\"dataframe\">\n",
       "  <thead>\n",
       "    <tr style=\"text-align: right;\">\n",
       "      <th></th>\n",
       "      <th>hashid</th>\n",
       "      <th>LIMIT_BAL</th>\n",
       "      <th>SEX</th>\n",
       "      <th>EDUCATION</th>\n",
       "      <th>MARRIAGE</th>\n",
       "      <th>AGE</th>\n",
       "      <th>PAY_1</th>\n",
       "      <th>PAY_2</th>\n",
       "      <th>PAY_3</th>\n",
       "      <th>PAY_4</th>\n",
       "      <th>...</th>\n",
       "      <th>BILL_AMT4</th>\n",
       "      <th>BILL_AMT5</th>\n",
       "      <th>BILL_AMT6</th>\n",
       "      <th>PAY_AMT1</th>\n",
       "      <th>PAY_AMT2</th>\n",
       "      <th>PAY_AMT3</th>\n",
       "      <th>PAY_AMT4</th>\n",
       "      <th>PAY_AMT5</th>\n",
       "      <th>PAY_AMT6</th>\n",
       "      <th>default_payment</th>\n",
       "    </tr>\n",
       "  </thead>\n",
       "  <tbody>\n",
       "    <tr>\n",
       "      <th>0</th>\n",
       "      <td>6455268178307048695</td>\n",
       "      <td>90000.0</td>\n",
       "      <td>2</td>\n",
       "      <td>2</td>\n",
       "      <td>2</td>\n",
       "      <td>34</td>\n",
       "      <td>0</td>\n",
       "      <td>0</td>\n",
       "      <td>0</td>\n",
       "      <td>0</td>\n",
       "      <td>...</td>\n",
       "      <td>14331.0</td>\n",
       "      <td>14948.0</td>\n",
       "      <td>15549.0</td>\n",
       "      <td>1518.0</td>\n",
       "      <td>1500.0</td>\n",
       "      <td>1000.0</td>\n",
       "      <td>1000.0</td>\n",
       "      <td>1000.0</td>\n",
       "      <td>5000.0</td>\n",
       "      <td>0</td>\n",
       "    </tr>\n",
       "    <tr>\n",
       "      <th>1</th>\n",
       "      <td>3919889686402291073</td>\n",
       "      <td>50000.0</td>\n",
       "      <td>2</td>\n",
       "      <td>2</td>\n",
       "      <td>1</td>\n",
       "      <td>37</td>\n",
       "      <td>0</td>\n",
       "      <td>0</td>\n",
       "      <td>0</td>\n",
       "      <td>0</td>\n",
       "      <td>...</td>\n",
       "      <td>28314.0</td>\n",
       "      <td>28959.0</td>\n",
       "      <td>29547.0</td>\n",
       "      <td>2000.0</td>\n",
       "      <td>2019.0</td>\n",
       "      <td>1200.0</td>\n",
       "      <td>1100.0</td>\n",
       "      <td>1069.0</td>\n",
       "      <td>1000.0</td>\n",
       "      <td>0</td>\n",
       "    </tr>\n",
       "    <tr>\n",
       "      <th>2</th>\n",
       "      <td>449943323627881487</td>\n",
       "      <td>50000.0</td>\n",
       "      <td>1</td>\n",
       "      <td>1</td>\n",
       "      <td>2</td>\n",
       "      <td>37</td>\n",
       "      <td>0</td>\n",
       "      <td>0</td>\n",
       "      <td>0</td>\n",
       "      <td>0</td>\n",
       "      <td>...</td>\n",
       "      <td>19394.0</td>\n",
       "      <td>19619.0</td>\n",
       "      <td>20024.0</td>\n",
       "      <td>2500.0</td>\n",
       "      <td>1815.0</td>\n",
       "      <td>657.0</td>\n",
       "      <td>1000.0</td>\n",
       "      <td>1000.0</td>\n",
       "      <td>800.0</td>\n",
       "      <td>0</td>\n",
       "    </tr>\n",
       "    <tr>\n",
       "      <th>3</th>\n",
       "      <td>8633013323626695528</td>\n",
       "      <td>500000.0</td>\n",
       "      <td>1</td>\n",
       "      <td>1</td>\n",
       "      <td>2</td>\n",
       "      <td>29</td>\n",
       "      <td>0</td>\n",
       "      <td>0</td>\n",
       "      <td>0</td>\n",
       "      <td>0</td>\n",
       "      <td>...</td>\n",
       "      <td>542653.0</td>\n",
       "      <td>483003.0</td>\n",
       "      <td>473944.0</td>\n",
       "      <td>55000.0</td>\n",
       "      <td>40000.0</td>\n",
       "      <td>38000.0</td>\n",
       "      <td>20239.0</td>\n",
       "      <td>13750.0</td>\n",
       "      <td>13770.0</td>\n",
       "      <td>0</td>\n",
       "    </tr>\n",
       "    <tr>\n",
       "      <th>4</th>\n",
       "      <td>6529025537284954989</td>\n",
       "      <td>100000.0</td>\n",
       "      <td>2</td>\n",
       "      <td>2</td>\n",
       "      <td>2</td>\n",
       "      <td>23</td>\n",
       "      <td>0</td>\n",
       "      <td>-1</td>\n",
       "      <td>-1</td>\n",
       "      <td>0</td>\n",
       "      <td>...</td>\n",
       "      <td>221.0</td>\n",
       "      <td>-159.0</td>\n",
       "      <td>567.0</td>\n",
       "      <td>380.0</td>\n",
       "      <td>601.0</td>\n",
       "      <td>0.0</td>\n",
       "      <td>581.0</td>\n",
       "      <td>1687.0</td>\n",
       "      <td>1542.0</td>\n",
       "      <td>0</td>\n",
       "    </tr>\n",
       "  </tbody>\n",
       "</table>\n",
       "<p>5 rows × 25 columns</p>\n",
       "</div>"
      ],
      "text/plain": [
       "                hashid  LIMIT_BAL  SEX  EDUCATION  MARRIAGE  AGE  PAY_1  \\\n",
       "0  6455268178307048695    90000.0    2          2         2   34      0   \n",
       "1  3919889686402291073    50000.0    2          2         1   37      0   \n",
       "2   449943323627881487    50000.0    1          1         2   37      0   \n",
       "3  8633013323626695528   500000.0    1          1         2   29      0   \n",
       "4  6529025537284954989   100000.0    2          2         2   23      0   \n",
       "\n",
       "   PAY_2  PAY_3  PAY_4  ...  BILL_AMT4  BILL_AMT5  BILL_AMT6  PAY_AMT1  \\\n",
       "0      0      0      0  ...    14331.0    14948.0    15549.0    1518.0   \n",
       "1      0      0      0  ...    28314.0    28959.0    29547.0    2000.0   \n",
       "2      0      0      0  ...    19394.0    19619.0    20024.0    2500.0   \n",
       "3      0      0      0  ...   542653.0   483003.0   473944.0   55000.0   \n",
       "4     -1     -1      0  ...      221.0     -159.0      567.0     380.0   \n",
       "\n",
       "   PAY_AMT2  PAY_AMT3  PAY_AMT4  PAY_AMT5  PAY_AMT6  default_payment  \n",
       "0    1500.0    1000.0    1000.0    1000.0    5000.0                0  \n",
       "1    2019.0    1200.0    1100.0    1069.0    1000.0                0  \n",
       "2    1815.0     657.0    1000.0    1000.0     800.0                0  \n",
       "3   40000.0   38000.0   20239.0   13750.0   13770.0                0  \n",
       "4     601.0       0.0     581.0    1687.0    1542.0                0  \n",
       "\n",
       "[5 rows x 25 columns]"
      ]
     },
     "execution_count": 37,
     "metadata": {},
     "output_type": "execute_result"
    }
   ],
   "source": [
    "df = bigquery.Client().query(query).to_dataframe()\n",
    "df.head()"
   ]
  },
  {
   "cell_type": "code",
   "execution_count": 38,
   "metadata": {},
   "outputs": [
    {
     "name": "stdout",
     "output_type": "stream",
     "text": [
      "There are 29927 total number of clients, with 25 number of columns\n"
     ]
    }
   ],
   "source": [
    "print(\"There are {} total number of clients, with {} number of columns\".format(df.shape[0],df.shape[1]))"
   ]
  },
  {
   "cell_type": "markdown",
   "metadata": {},
   "source": [
    "Now is the time for some data wrangling. Let's start by checking if there are any rows with missing data and if so, omit them:"
   ]
  },
  {
   "cell_type": "code",
   "execution_count": 39,
   "metadata": {},
   "outputs": [
    {
     "data": {
      "text/plain": [
       "hashid             0\n",
       "LIMIT_BAL          0\n",
       "SEX                0\n",
       "EDUCATION          0\n",
       "MARRIAGE           0\n",
       "AGE                0\n",
       "PAY_1              0\n",
       "PAY_2              0\n",
       "PAY_3              0\n",
       "PAY_4              0\n",
       "PAY_5              0\n",
       "PAY_6              0\n",
       "BILL_AMT1          0\n",
       "BILL_AMT2          0\n",
       "BILL_AMT3          0\n",
       "BILL_AMT4          0\n",
       "BILL_AMT5          0\n",
       "BILL_AMT6          0\n",
       "PAY_AMT1           0\n",
       "PAY_AMT2           0\n",
       "PAY_AMT3           0\n",
       "PAY_AMT4           0\n",
       "PAY_AMT5           0\n",
       "PAY_AMT6           0\n",
       "default_payment    0\n",
       "dtype: int64"
      ]
     },
     "execution_count": 39,
     "metadata": {},
     "output_type": "execute_result"
    }
   ],
   "source": [
    "num_count = df.isnull().sum()\n",
    "num_count"
   ]
  },
  {
   "cell_type": "markdown",
   "metadata": {},
   "source": [
    "Surprisingly, there is no missing value in the dataframe! Great!"
   ]
  },
  {
   "cell_type": "markdown",
   "metadata": {},
   "source": [
    "Also, let's get a quick sense of the data. The table below shows that the average credit limist are around 167000, and the average age of the customers is 35 years."
   ]
  },
  {
   "cell_type": "code",
   "execution_count": 71,
   "metadata": {},
   "outputs": [
    {
     "data": {
      "text/html": [
       "<div>\n",
       "<style scoped>\n",
       "    .dataframe tbody tr th:only-of-type {\n",
       "        vertical-align: middle;\n",
       "    }\n",
       "\n",
       "    .dataframe tbody tr th {\n",
       "        vertical-align: top;\n",
       "    }\n",
       "\n",
       "    .dataframe thead th {\n",
       "        text-align: right;\n",
       "    }\n",
       "</style>\n",
       "<table border=\"1\" class=\"dataframe\">\n",
       "  <thead>\n",
       "    <tr style=\"text-align: right;\">\n",
       "      <th></th>\n",
       "      <th>hashid</th>\n",
       "      <th>LIMIT_BAL</th>\n",
       "      <th>SEX</th>\n",
       "      <th>EDUCATION</th>\n",
       "      <th>MARRIAGE</th>\n",
       "      <th>AGE</th>\n",
       "      <th>PAY_1</th>\n",
       "      <th>PAY_2</th>\n",
       "      <th>PAY_3</th>\n",
       "      <th>PAY_4</th>\n",
       "      <th>...</th>\n",
       "      <th>BILL_AMT4</th>\n",
       "      <th>BILL_AMT5</th>\n",
       "      <th>BILL_AMT6</th>\n",
       "      <th>PAY_AMT1</th>\n",
       "      <th>PAY_AMT2</th>\n",
       "      <th>PAY_AMT3</th>\n",
       "      <th>PAY_AMT4</th>\n",
       "      <th>PAY_AMT5</th>\n",
       "      <th>PAY_AMT6</th>\n",
       "      <th>default_payment</th>\n",
       "    </tr>\n",
       "  </thead>\n",
       "  <tbody>\n",
       "    <tr>\n",
       "      <th>count</th>\n",
       "      <td>2.992700e+04</td>\n",
       "      <td>29927.000000</td>\n",
       "      <td>29927.000000</td>\n",
       "      <td>29927.000000</td>\n",
       "      <td>29927.000000</td>\n",
       "      <td>29927.000000</td>\n",
       "      <td>29927.000000</td>\n",
       "      <td>29927.000000</td>\n",
       "      <td>29927.000000</td>\n",
       "      <td>29927.000000</td>\n",
       "      <td>...</td>\n",
       "      <td>29927.000000</td>\n",
       "      <td>29927.000000</td>\n",
       "      <td>29927.000000</td>\n",
       "      <td>29927.000000</td>\n",
       "      <td>2.992700e+04</td>\n",
       "      <td>29927.000000</td>\n",
       "      <td>29927.000000</td>\n",
       "      <td>29927.000000</td>\n",
       "      <td>29927.000000</td>\n",
       "      <td>29927.000000</td>\n",
       "    </tr>\n",
       "    <tr>\n",
       "      <th>mean</th>\n",
       "      <td>4.628572e+18</td>\n",
       "      <td>167213.876433</td>\n",
       "      <td>1.603736</td>\n",
       "      <td>1.853343</td>\n",
       "      <td>1.551910</td>\n",
       "      <td>35.489124</td>\n",
       "      <td>-0.016741</td>\n",
       "      <td>-0.133558</td>\n",
       "      <td>-0.165937</td>\n",
       "      <td>-0.220704</td>\n",
       "      <td>...</td>\n",
       "      <td>43082.234370</td>\n",
       "      <td>40167.759147</td>\n",
       "      <td>38777.951148</td>\n",
       "      <td>5574.408628</td>\n",
       "      <td>5.825537e+03</td>\n",
       "      <td>5180.367394</td>\n",
       "      <td>4800.932803</td>\n",
       "      <td>4773.628964</td>\n",
       "      <td>5133.073078</td>\n",
       "      <td>0.221506</td>\n",
       "    </tr>\n",
       "    <tr>\n",
       "      <th>std</th>\n",
       "      <td>2.663142e+18</td>\n",
       "      <td>129652.201990</td>\n",
       "      <td>0.489129</td>\n",
       "      <td>0.789884</td>\n",
       "      <td>0.522024</td>\n",
       "      <td>9.221458</td>\n",
       "      <td>1.124547</td>\n",
       "      <td>1.198241</td>\n",
       "      <td>1.198056</td>\n",
       "      <td>1.170279</td>\n",
       "      <td>...</td>\n",
       "      <td>64179.587252</td>\n",
       "      <td>60631.619762</td>\n",
       "      <td>59467.711753</td>\n",
       "      <td>16177.382425</td>\n",
       "      <td>2.279145e+04</td>\n",
       "      <td>17511.006043</td>\n",
       "      <td>15609.707686</td>\n",
       "      <td>15225.890506</td>\n",
       "      <td>17438.705904</td>\n",
       "      <td>0.415267</td>\n",
       "    </tr>\n",
       "    <tr>\n",
       "      <th>min</th>\n",
       "      <td>3.460474e+14</td>\n",
       "      <td>10000.000000</td>\n",
       "      <td>1.000000</td>\n",
       "      <td>0.000000</td>\n",
       "      <td>0.000000</td>\n",
       "      <td>21.000000</td>\n",
       "      <td>-2.000000</td>\n",
       "      <td>-2.000000</td>\n",
       "      <td>-2.000000</td>\n",
       "      <td>-2.000000</td>\n",
       "      <td>...</td>\n",
       "      <td>-170000.000000</td>\n",
       "      <td>-81334.000000</td>\n",
       "      <td>-339603.000000</td>\n",
       "      <td>0.000000</td>\n",
       "      <td>0.000000e+00</td>\n",
       "      <td>0.000000</td>\n",
       "      <td>0.000000</td>\n",
       "      <td>0.000000</td>\n",
       "      <td>0.000000</td>\n",
       "      <td>0.000000</td>\n",
       "    </tr>\n",
       "    <tr>\n",
       "      <th>25%</th>\n",
       "      <td>2.315785e+18</td>\n",
       "      <td>50000.000000</td>\n",
       "      <td>1.000000</td>\n",
       "      <td>1.000000</td>\n",
       "      <td>1.000000</td>\n",
       "      <td>28.000000</td>\n",
       "      <td>-1.000000</td>\n",
       "      <td>-1.000000</td>\n",
       "      <td>-1.000000</td>\n",
       "      <td>-1.000000</td>\n",
       "      <td>...</td>\n",
       "      <td>2315.000000</td>\n",
       "      <td>1759.000000</td>\n",
       "      <td>1255.500000</td>\n",
       "      <td>1000.000000</td>\n",
       "      <td>8.290000e+02</td>\n",
       "      <td>390.000000</td>\n",
       "      <td>294.000000</td>\n",
       "      <td>252.000000</td>\n",
       "      <td>115.500000</td>\n",
       "      <td>0.000000</td>\n",
       "    </tr>\n",
       "    <tr>\n",
       "      <th>50%</th>\n",
       "      <td>4.634248e+18</td>\n",
       "      <td>140000.000000</td>\n",
       "      <td>2.000000</td>\n",
       "      <td>2.000000</td>\n",
       "      <td>2.000000</td>\n",
       "      <td>34.000000</td>\n",
       "      <td>0.000000</td>\n",
       "      <td>0.000000</td>\n",
       "      <td>0.000000</td>\n",
       "      <td>0.000000</td>\n",
       "      <td>...</td>\n",
       "      <td>19005.000000</td>\n",
       "      <td>18078.000000</td>\n",
       "      <td>17030.000000</td>\n",
       "      <td>2100.000000</td>\n",
       "      <td>2.007000e+03</td>\n",
       "      <td>1800.000000</td>\n",
       "      <td>1500.000000</td>\n",
       "      <td>1500.000000</td>\n",
       "      <td>1500.000000</td>\n",
       "      <td>0.000000</td>\n",
       "    </tr>\n",
       "    <tr>\n",
       "      <th>75%</th>\n",
       "      <td>6.930366e+18</td>\n",
       "      <td>240000.000000</td>\n",
       "      <td>2.000000</td>\n",
       "      <td>2.000000</td>\n",
       "      <td>2.000000</td>\n",
       "      <td>41.000000</td>\n",
       "      <td>0.000000</td>\n",
       "      <td>0.000000</td>\n",
       "      <td>0.000000</td>\n",
       "      <td>0.000000</td>\n",
       "      <td>...</td>\n",
       "      <td>54012.500000</td>\n",
       "      <td>50019.000000</td>\n",
       "      <td>49027.000000</td>\n",
       "      <td>5005.000000</td>\n",
       "      <td>5.000000e+03</td>\n",
       "      <td>4500.000000</td>\n",
       "      <td>4008.000000</td>\n",
       "      <td>4016.000000</td>\n",
       "      <td>4000.000000</td>\n",
       "      <td>0.000000</td>\n",
       "    </tr>\n",
       "    <tr>\n",
       "      <th>max</th>\n",
       "      <td>9.223304e+18</td>\n",
       "      <td>1000000.000000</td>\n",
       "      <td>2.000000</td>\n",
       "      <td>6.000000</td>\n",
       "      <td>3.000000</td>\n",
       "      <td>79.000000</td>\n",
       "      <td>8.000000</td>\n",
       "      <td>8.000000</td>\n",
       "      <td>8.000000</td>\n",
       "      <td>8.000000</td>\n",
       "      <td>...</td>\n",
       "      <td>891586.000000</td>\n",
       "      <td>927171.000000</td>\n",
       "      <td>961664.000000</td>\n",
       "      <td>873552.000000</td>\n",
       "      <td>1.684259e+06</td>\n",
       "      <td>896040.000000</td>\n",
       "      <td>621000.000000</td>\n",
       "      <td>426529.000000</td>\n",
       "      <td>528666.000000</td>\n",
       "      <td>1.000000</td>\n",
       "    </tr>\n",
       "  </tbody>\n",
       "</table>\n",
       "<p>8 rows × 25 columns</p>\n",
       "</div>"
      ],
      "text/plain": [
       "             hashid       LIMIT_BAL           SEX     EDUCATION      MARRIAGE  \\\n",
       "count  2.992700e+04    29927.000000  29927.000000  29927.000000  29927.000000   \n",
       "mean   4.628572e+18   167213.876433      1.603736      1.853343      1.551910   \n",
       "std    2.663142e+18   129652.201990      0.489129      0.789884      0.522024   \n",
       "min    3.460474e+14    10000.000000      1.000000      0.000000      0.000000   \n",
       "25%    2.315785e+18    50000.000000      1.000000      1.000000      1.000000   \n",
       "50%    4.634248e+18   140000.000000      2.000000      2.000000      2.000000   \n",
       "75%    6.930366e+18   240000.000000      2.000000      2.000000      2.000000   \n",
       "max    9.223304e+18  1000000.000000      2.000000      6.000000      3.000000   \n",
       "\n",
       "                AGE         PAY_1         PAY_2         PAY_3         PAY_4  \\\n",
       "count  29927.000000  29927.000000  29927.000000  29927.000000  29927.000000   \n",
       "mean      35.489124     -0.016741     -0.133558     -0.165937     -0.220704   \n",
       "std        9.221458      1.124547      1.198241      1.198056      1.170279   \n",
       "min       21.000000     -2.000000     -2.000000     -2.000000     -2.000000   \n",
       "25%       28.000000     -1.000000     -1.000000     -1.000000     -1.000000   \n",
       "50%       34.000000      0.000000      0.000000      0.000000      0.000000   \n",
       "75%       41.000000      0.000000      0.000000      0.000000      0.000000   \n",
       "max       79.000000      8.000000      8.000000      8.000000      8.000000   \n",
       "\n",
       "       ...      BILL_AMT4      BILL_AMT5      BILL_AMT6       PAY_AMT1  \\\n",
       "count  ...   29927.000000   29927.000000   29927.000000   29927.000000   \n",
       "mean   ...   43082.234370   40167.759147   38777.951148    5574.408628   \n",
       "std    ...   64179.587252   60631.619762   59467.711753   16177.382425   \n",
       "min    ... -170000.000000  -81334.000000 -339603.000000       0.000000   \n",
       "25%    ...    2315.000000    1759.000000    1255.500000    1000.000000   \n",
       "50%    ...   19005.000000   18078.000000   17030.000000    2100.000000   \n",
       "75%    ...   54012.500000   50019.000000   49027.000000    5005.000000   \n",
       "max    ...  891586.000000  927171.000000  961664.000000  873552.000000   \n",
       "\n",
       "           PAY_AMT2       PAY_AMT3       PAY_AMT4       PAY_AMT5  \\\n",
       "count  2.992700e+04   29927.000000   29927.000000   29927.000000   \n",
       "mean   5.825537e+03    5180.367394    4800.932803    4773.628964   \n",
       "std    2.279145e+04   17511.006043   15609.707686   15225.890506   \n",
       "min    0.000000e+00       0.000000       0.000000       0.000000   \n",
       "25%    8.290000e+02     390.000000     294.000000     252.000000   \n",
       "50%    2.007000e+03    1800.000000    1500.000000    1500.000000   \n",
       "75%    5.000000e+03    4500.000000    4008.000000    4016.000000   \n",
       "max    1.684259e+06  896040.000000  621000.000000  426529.000000   \n",
       "\n",
       "            PAY_AMT6  default_payment  \n",
       "count   29927.000000     29927.000000  \n",
       "mean     5133.073078         0.221506  \n",
       "std     17438.705904         0.415267  \n",
       "min         0.000000         0.000000  \n",
       "25%       115.500000         0.000000  \n",
       "50%      1500.000000         0.000000  \n",
       "75%      4000.000000         0.000000  \n",
       "max    528666.000000         1.000000  \n",
       "\n",
       "[8 rows x 25 columns]"
      ]
     },
     "execution_count": 71,
     "metadata": {},
     "output_type": "execute_result"
    }
   ],
   "source": [
    "df.describe()"
   ]
  },
  {
   "cell_type": "markdown",
   "metadata": {},
   "source": [
    "<a id='data-analysis'></a>"
   ]
  },
  {
   "cell_type": "markdown",
   "metadata": {},
   "source": [
    "## Data Analysis\n",
    "\n",
    "It's important that we understand the distribution of the data from various columns. I'll define two functions to get the distinct values of each column, as well as their avarge default counts."
   ]
  },
  {
   "cell_type": "code",
   "execution_count": 44,
   "metadata": {},
   "outputs": [],
   "source": [
    "def get_distinct_values(column_name):\n",
    "    sql = \"\"\"\n",
    "          SELECT\n",
    "             {0},\n",
    "             COUNT(1) AS num_rows,\n",
    "             AVG(CAST(default_payment_next_month AS INT64)) AS avg_default\n",
    "          FROM\n",
    "             `subtle-digit-257500.credit_card.credit_card_1`\n",
    "          GROUP BY\n",
    "             {0}\n",
    "          \"\"\".format(column_name)\n",
    "    return bigquery.Client().query(sql).to_dataframe()"
   ]
  },
  {
   "cell_type": "code",
   "execution_count": 28,
   "metadata": {},
   "outputs": [],
   "source": [
    "def get_average_values(column_name):\n",
    "    sql = \"\"\"\n",
    "          SELECT\n",
    "             default_payment_next_month AS default_payment,\n",
    "             AVG({0}) AS avg_values\n",
    "          FROM\n",
    "             `subtle-digit-257500.credit_card.credit_card_1`\n",
    "          GROUP BY\n",
    "             default_payment\n",
    "          \"\"\".format(column_name)\n",
    "    return bigquery.Client().query(sql).to_dataframe()"
   ]
  },
  {
   "cell_type": "markdown",
   "metadata": {},
   "source": [
    "### Default Counts\n",
    "\n",
    "Here, our target value is `*default_payment_next_month*`, with **1=yes** and **0=no**. Let's see the count for each group."
   ]
  },
  {
   "cell_type": "code",
   "execution_count": 47,
   "metadata": {},
   "outputs": [],
   "source": [
    "default_counts = get_distinct_values('default_payment_next_month')"
   ]
  },
  {
   "cell_type": "code",
   "execution_count": 48,
   "metadata": {},
   "outputs": [
    {
     "data": {
      "text/html": [
       "<div>\n",
       "<style scoped>\n",
       "    .dataframe tbody tr th:only-of-type {\n",
       "        vertical-align: middle;\n",
       "    }\n",
       "\n",
       "    .dataframe tbody tr th {\n",
       "        vertical-align: top;\n",
       "    }\n",
       "\n",
       "    .dataframe thead th {\n",
       "        text-align: right;\n",
       "    }\n",
       "</style>\n",
       "<table border=\"1\" class=\"dataframe\">\n",
       "  <thead>\n",
       "    <tr style=\"text-align: right;\">\n",
       "      <th></th>\n",
       "      <th>default_payment_next_month</th>\n",
       "      <th>num_rows</th>\n",
       "      <th>avg_default</th>\n",
       "    </tr>\n",
       "  </thead>\n",
       "  <tbody>\n",
       "    <tr>\n",
       "      <th>0</th>\n",
       "      <td>0</td>\n",
       "      <td>23298</td>\n",
       "      <td>0.0</td>\n",
       "    </tr>\n",
       "    <tr>\n",
       "      <th>1</th>\n",
       "      <td>1</td>\n",
       "      <td>6629</td>\n",
       "      <td>1.0</td>\n",
       "    </tr>\n",
       "  </tbody>\n",
       "</table>\n",
       "</div>"
      ],
      "text/plain": [
       "   default_payment_next_month  num_rows  avg_default\n",
       "0                           0     23298          0.0\n",
       "1                           1      6629          1.0"
      ]
     },
     "execution_count": 48,
     "metadata": {},
     "output_type": "execute_result"
    }
   ],
   "source": [
    "default_counts"
   ]
  },
  {
   "cell_type": "code",
   "execution_count": 50,
   "metadata": {},
   "outputs": [
    {
     "data": {
      "text/plain": [
       "Text(0.5, 1.0, 'Default Payments')"
      ]
     },
     "execution_count": 50,
     "metadata": {},
     "output_type": "execute_result"
    },
    {
     "data": {
      "image/png": "[encoded data removed]",
      "text/plain": [
       "<Figure size 288x288 with 1 Axes>"
      ]
     },
     "metadata": {
      "needs_background": "light"
     },
     "output_type": "display_data"
    }
   ],
   "source": [
    "fig = plt.figure(figsize = (4,4))\n",
    "\n",
    "plt.bar('default_payment_next_month','num_rows', data=default_counts\n",
    "       , color=('red','blue'))\n",
    "plt.gca().set_xticks([0,1])\n",
    "plt.gca().set_yticks(np.arange(0,30000, 5000))\n",
    "plt.gca().set_xticklabels(['Not_default','Default'])\n",
    "plt.gca().set_title('Default Payments')"
   ]
  },
  {
   "cell_type": "markdown",
   "metadata": {},
   "source": [
    "We can see that although most of the customers fall under the \"Not_default\" category, the distribution between these two groups is not terribly uneven, in that the \"Default\" class is only about a quarter of the other."
   ]
  },
  {
   "cell_type": "markdown",
   "metadata": {},
   "source": [
    "There is not a great disparity between the number of customers who will default next month versus those who don't."
   ]
  },
  {
   "cell_type": "markdown",
   "metadata": {},
   "source": [
    "### Gender\n",
    "\n",
    "Let's see the distribution of the gender of different customers with their default status."
   ]
  },
  {
   "cell_type": "code",
   "execution_count": 51,
   "metadata": {},
   "outputs": [],
   "source": [
    "gender_counts = get_distinct_values('SEX')"
   ]
  },
  {
   "cell_type": "code",
   "execution_count": 52,
   "metadata": {},
   "outputs": [
    {
     "data": {
      "text/html": [
       "<div>\n",
       "<style scoped>\n",
       "    .dataframe tbody tr th:only-of-type {\n",
       "        vertical-align: middle;\n",
       "    }\n",
       "\n",
       "    .dataframe tbody tr th {\n",
       "        vertical-align: top;\n",
       "    }\n",
       "\n",
       "    .dataframe thead th {\n",
       "        text-align: right;\n",
       "    }\n",
       "</style>\n",
       "<table border=\"1\" class=\"dataframe\">\n",
       "  <thead>\n",
       "    <tr style=\"text-align: right;\">\n",
       "      <th></th>\n",
       "      <th>SEX</th>\n",
       "      <th>num_rows</th>\n",
       "      <th>avg_default</th>\n",
       "    </tr>\n",
       "  </thead>\n",
       "  <tbody>\n",
       "    <tr>\n",
       "      <th>0</th>\n",
       "      <td>2</td>\n",
       "      <td>18068</td>\n",
       "      <td>0.208158</td>\n",
       "    </tr>\n",
       "    <tr>\n",
       "      <th>1</th>\n",
       "      <td>1</td>\n",
       "      <td>11859</td>\n",
       "      <td>0.241842</td>\n",
       "    </tr>\n",
       "  </tbody>\n",
       "</table>\n",
       "</div>"
      ],
      "text/plain": [
       "   SEX  num_rows  avg_default\n",
       "0    2     18068     0.208158\n",
       "1    1     11859     0.241842"
      ]
     },
     "execution_count": 52,
     "metadata": {},
     "output_type": "execute_result"
    }
   ],
   "source": [
    "gender_counts"
   ]
  },
  {
   "cell_type": "code",
   "execution_count": 53,
   "metadata": {},
   "outputs": [
    {
     "data": {
      "text/plain": [
       "Text(0.5, 1.0, 'Gender Counts')"
      ]
     },
     "execution_count": 53,
     "metadata": {},
     "output_type": "execute_result"
    },
    {
     "data": {
      "image/png": "[encoded data removed]",
      "text/plain": [
       "<Figure size 288x288 with 1 Axes>"
      ]
     },
     "metadata": {
      "needs_background": "light"
     },
     "output_type": "display_data"
    }
   ],
   "source": [
    "fig1 = plt.figure(figsize = (4,4))\n",
    "ax = fig1.add_subplot(111)\n",
    "ax.bar('SEX','num_rows', data=gender_counts\n",
    "       , color=('red','blue'))\n",
    "ax.set_xticks([1,2])\n",
    "ax.set_yticks(np.arange(0,30000, 5000))\n",
    "ax.set_xticklabels(['Male','Female'], ha='center')\n",
    "ax.set_title('Gender Counts')"
   ]
  },
  {
   "cell_type": "markdown",
   "metadata": {},
   "source": [
    "We can see that the population of female customers is about 1.5 times larger than that of the male customers. Let's take a look at the average count of defaults for each group."
   ]
  },
  {
   "cell_type": "code",
   "execution_count": 57,
   "metadata": {},
   "outputs": [
    {
     "data": {
      "text/plain": [
       "Text(0.5, 1.0, 'Avg Default by Gender')"
      ]
     },
     "execution_count": 57,
     "metadata": {},
     "output_type": "execute_result"
    },
    {
     "data": {
      "image/png": "[encoded data removed]",
      "text/plain": [
       "<Figure size 288x288 with 1 Axes>"
      ]
     },
     "metadata": {
      "needs_background": "light"
     },
     "output_type": "display_data"
    }
   ],
   "source": [
    "fig1 = plt.figure(figsize = (4,4))\n",
    "ax = fig1.add_subplot(111)\n",
    "ax.bar('SEX','avg_default', data=gender_counts\n",
    "       , color=('red','blue'))\n",
    "ax.set_xticks([1,2])\n",
    "ax.set_xticklabels(['Male','Female'], ha='center')\n",
    "ax.set_ylabel('Avg Default')\n",
    "ax.set_title('Avg Default by Gender')"
   ]
  },
  {
   "cell_type": "markdown",
   "metadata": {},
   "source": [
    "It appears that men tend to default more on their next month payment."
   ]
  },
  {
   "cell_type": "markdown",
   "metadata": {},
   "source": [
    "### Education\n",
    "\n",
    "Let's look at the distribution of the customers according to their educational status and see the avg default values for each group."
   ]
  },
  {
   "cell_type": "code",
   "execution_count": 58,
   "metadata": {},
   "outputs": [],
   "source": [
    "ed_counts = get_distinct_values('EDUCATION')"
   ]
  },
  {
   "cell_type": "code",
   "execution_count": 59,
   "metadata": {},
   "outputs": [
    {
     "data": {
      "text/html": [
       "<div>\n",
       "<style scoped>\n",
       "    .dataframe tbody tr th:only-of-type {\n",
       "        vertical-align: middle;\n",
       "    }\n",
       "\n",
       "    .dataframe tbody tr th {\n",
       "        vertical-align: top;\n",
       "    }\n",
       "\n",
       "    .dataframe thead th {\n",
       "        text-align: right;\n",
       "    }\n",
       "</style>\n",
       "<table border=\"1\" class=\"dataframe\">\n",
       "  <thead>\n",
       "    <tr style=\"text-align: right;\">\n",
       "      <th></th>\n",
       "      <th>EDUCATION</th>\n",
       "      <th>num_rows</th>\n",
       "      <th>avg_default</th>\n",
       "    </tr>\n",
       "  </thead>\n",
       "  <tbody>\n",
       "    <tr>\n",
       "      <th>0</th>\n",
       "      <td>2</td>\n",
       "      <td>14004</td>\n",
       "      <td>0.237432</td>\n",
       "    </tr>\n",
       "    <tr>\n",
       "      <th>1</th>\n",
       "      <td>1</td>\n",
       "      <td>10550</td>\n",
       "      <td>0.192891</td>\n",
       "    </tr>\n",
       "    <tr>\n",
       "      <th>2</th>\n",
       "      <td>3</td>\n",
       "      <td>4908</td>\n",
       "      <td>0.251834</td>\n",
       "    </tr>\n",
       "    <tr>\n",
       "      <th>3</th>\n",
       "      <td>5</td>\n",
       "      <td>277</td>\n",
       "      <td>0.064982</td>\n",
       "    </tr>\n",
       "    <tr>\n",
       "      <th>4</th>\n",
       "      <td>4</td>\n",
       "      <td>123</td>\n",
       "      <td>0.056911</td>\n",
       "    </tr>\n",
       "    <tr>\n",
       "      <th>5</th>\n",
       "      <td>6</td>\n",
       "      <td>51</td>\n",
       "      <td>0.156863</td>\n",
       "    </tr>\n",
       "    <tr>\n",
       "      <th>6</th>\n",
       "      <td>0</td>\n",
       "      <td>14</td>\n",
       "      <td>0.000000</td>\n",
       "    </tr>\n",
       "  </tbody>\n",
       "</table>\n",
       "</div>"
      ],
      "text/plain": [
       "   EDUCATION  num_rows  avg_default\n",
       "0          2     14004     0.237432\n",
       "1          1     10550     0.192891\n",
       "2          3      4908     0.251834\n",
       "3          5       277     0.064982\n",
       "4          4       123     0.056911\n",
       "5          6        51     0.156863\n",
       "6          0        14     0.000000"
      ]
     },
     "execution_count": 59,
     "metadata": {},
     "output_type": "execute_result"
    }
   ],
   "source": [
    "ed_counts"
   ]
  },
  {
   "cell_type": "markdown",
   "metadata": {},
   "source": [
    "As we can see, there are 7 tiers of education, which are 1=graduate school, 2=university, 3=high school, 4=others, 5=unknown, 6=unknown. Let's first omit rows with EDUCATION=0. "
   ]
  },
  {
   "cell_type": "code",
   "execution_count": 60,
   "metadata": {},
   "outputs": [],
   "source": [
    "ed_counts.drop(ed_counts.loc[ed_counts['EDUCATION']==0].index, inplace=True)"
   ]
  },
  {
   "cell_type": "markdown",
   "metadata": {},
   "source": [
    "Now, let's visualize their distribution as well as their average default counts."
   ]
  },
  {
   "cell_type": "code",
   "execution_count": 76,
   "metadata": {},
   "outputs": [
    {
     "data": {
      "text/plain": [
       "Text(0.5, 1.0, 'Education')"
      ]
     },
     "execution_count": 76,
     "metadata": {},
     "output_type": "execute_result"
    },
    {
     "data": {
      "image/png": "[encoded data removed]",
      "text/plain": [
       "<Figure size 432x288 with 1 Axes>"
      ]
     },
     "metadata": {
      "needs_background": "light"
     },
     "output_type": "display_data"
    }
   ],
   "source": [
    "fig1 = plt.figure(figsize = (6,4))\n",
    "ax = fig1.add_subplot(111)\n",
    "\n",
    "colors_array = cm.rainbow(np.linspace(0, 1, len(ed_counts)))\n",
    "\n",
    "ax.bar('EDUCATION','num_rows', data=ed_counts\n",
    "       , color=colors_array)\n",
    "ax.set_xticks([1,2,3,4,5,6])\n",
    "ax.set_yticks(np.arange(0,15001, 3000))\n",
    "ax.set_xticklabels(['Graduate','University','High School','Others','Unknown','Unknown'], \n",
    "                   ha='center', rotation=45)\n",
    "ax.set_title('Education')"
   ]
  },
  {
   "cell_type": "markdown",
   "metadata": {},
   "source": [
    "The majority of the customers are still pursuing their Bachelor's degree, with the next big population of them having graduated from college."
   ]
  },
  {
   "cell_type": "code",
   "execution_count": 75,
   "metadata": {},
   "outputs": [
    {
     "data": {
      "text/plain": [
       "Text(0.5, 1.0, 'Education')"
      ]
     },
     "execution_count": 75,
     "metadata": {},
     "output_type": "execute_result"
    },
    {
     "data": {
      "image/png": "[encoded data removed]",
      "text/plain": [
       "<Figure size 432x288 with 1 Axes>"
      ]
     },
     "metadata": {
      "needs_background": "light"
     },
     "output_type": "display_data"
    }
   ],
   "source": [
    "fig1 = plt.figure(figsize = (6,4))\n",
    "ax = fig1.add_subplot(111)\n",
    "\n",
    "colors_array = cm.rainbow(np.linspace(0, 1, len(ed_counts)))\n",
    "\n",
    "ax.bar('EDUCATION','avg_default', data=ed_counts\n",
    "       , color=colors_array)\n",
    "ax.set_xticks([1,2,3,4,5,6])\n",
    "ax.set_xticklabels(['Graduate','University','High School','Others','Unknown','Unknown'], \n",
    "                   ha='center', rotation=45)\n",
    "ax.set_title('Education')"
   ]
  },
  {
   "cell_type": "markdown",
   "metadata": {},
   "source": [
    "Interestingly, the majority of those who default on their next month payment are either high school or college students, and the least those with other education status!"
   ]
  },
  {
   "cell_type": "markdown",
   "metadata": {},
   "source": [
    "### Marriage\n",
    "\n",
    "The next categorical column is marital status. Let's repeat the same steps for this column."
   ]
  },
  {
   "cell_type": "code",
   "execution_count": 67,
   "metadata": {},
   "outputs": [],
   "source": [
    "marital_counts = get_distinct_values('MARRIAGE')"
   ]
  },
  {
   "cell_type": "code",
   "execution_count": 68,
   "metadata": {},
   "outputs": [
    {
     "data": {
      "text/html": [
       "<div>\n",
       "<style scoped>\n",
       "    .dataframe tbody tr th:only-of-type {\n",
       "        vertical-align: middle;\n",
       "    }\n",
       "\n",
       "    .dataframe tbody tr th {\n",
       "        vertical-align: top;\n",
       "    }\n",
       "\n",
       "    .dataframe thead th {\n",
       "        text-align: right;\n",
       "    }\n",
       "</style>\n",
       "<table border=\"1\" class=\"dataframe\">\n",
       "  <thead>\n",
       "    <tr style=\"text-align: right;\">\n",
       "      <th></th>\n",
       "      <th>MARRIAGE</th>\n",
       "      <th>num_rows</th>\n",
       "      <th>avg_default</th>\n",
       "    </tr>\n",
       "  </thead>\n",
       "  <tbody>\n",
       "    <tr>\n",
       "      <th>0</th>\n",
       "      <td>2</td>\n",
       "      <td>15925</td>\n",
       "      <td>0.209545</td>\n",
       "    </tr>\n",
       "    <tr>\n",
       "      <th>1</th>\n",
       "      <td>1</td>\n",
       "      <td>13625</td>\n",
       "      <td>0.235083</td>\n",
       "    </tr>\n",
       "    <tr>\n",
       "      <th>2</th>\n",
       "      <td>3</td>\n",
       "      <td>323</td>\n",
       "      <td>0.260062</td>\n",
       "    </tr>\n",
       "    <tr>\n",
       "      <th>3</th>\n",
       "      <td>0</td>\n",
       "      <td>54</td>\n",
       "      <td>0.092593</td>\n",
       "    </tr>\n",
       "  </tbody>\n",
       "</table>\n",
       "</div>"
      ],
      "text/plain": [
       "   MARRIAGE  num_rows  avg_default\n",
       "0         2     15925     0.209545\n",
       "1         1     13625     0.235083\n",
       "2         3       323     0.260062\n",
       "3         0        54     0.092593"
      ]
     },
     "execution_count": 68,
     "metadata": {},
     "output_type": "execute_result"
    }
   ],
   "source": [
    "marital_counts"
   ]
  },
  {
   "cell_type": "markdown",
   "metadata": {},
   "source": [
    "There are four martial groups: 1=married, 2=single, 3=others, 4=Unknown. Let's look at their distribution and average default values."
   ]
  },
  {
   "cell_type": "code",
   "execution_count": 70,
   "metadata": {},
   "outputs": [
    {
     "data": {
      "text/plain": [
       "Text(0.5, 1.0, 'Marital Status')"
      ]
     },
     "execution_count": 70,
     "metadata": {},
     "output_type": "execute_result"
    },
    {
     "data": {
      "image/png": "[encoded data removed]",
      "text/plain": [
       "<Figure size 288x288 with 1 Axes>"
      ]
     },
     "metadata": {
      "needs_background": "light"
     },
     "output_type": "display_data"
    }
   ],
   "source": [
    "fig1 = plt.figure(figsize = (4,4))\n",
    "ax = fig1.add_subplot(111)\n",
    "\n",
    "colors_array = cm.rainbow(np.linspace(0, 1, len(marital_counts)))\n",
    "\n",
    "ax.bar('MARRIAGE','num_rows', data=marital_counts\n",
    "       , color=colors_array)\n",
    "ax.set_xticks([0,1,2,3])\n",
    "ax.set_yticks(np.arange(0,16001, 4000))\n",
    "ax.set_xticklabels(['Unknown','Married','Single','Others'], \n",
    "                   ha='center', rotation=45)\n",
    "ax.set_title('Marital Status')"
   ]
  },
  {
   "cell_type": "markdown",
   "metadata": {},
   "source": [
    "The majority of the customers are single, with married ones following closely behind. The population of those with other or unknown marital status are very small in comparison to the other two."
   ]
  },
  {
   "cell_type": "code",
   "execution_count": 74,
   "metadata": {},
   "outputs": [
    {
     "data": {
      "text/plain": [
       "Text(0.5, 1.0, 'Average Default Grouped by Marital Status')"
      ]
     },
     "execution_count": 74,
     "metadata": {},
     "output_type": "execute_result"
    },
    {
     "data": {
      "image/png": "[encoded data removed]",
      "text/plain": [
       "<Figure size 432x288 with 1 Axes>"
      ]
     },
     "metadata": {
      "needs_background": "light"
     },
     "output_type": "display_data"
    }
   ],
   "source": [
    "fig1 = plt.figure(figsize = (6,4))\n",
    "ax = fig1.add_subplot(111)\n",
    "\n",
    "colors_array = cm.rainbow(np.linspace(0, 1, len(marital_counts)))\n",
    "\n",
    "ax.bar('MARRIAGE','avg_default', data=marital_counts\n",
    "       , color=colors_array)\n",
    "ax.set_xticks([0,1,2,3])\n",
    "ax.set_xticklabels(['Unknown','Married','Single','Others'], \n",
    "                   ha='center', rotation=45)\n",
    "ax.set_title('Average Default Grouped by Marital Status')"
   ]
  },
  {
   "cell_type": "markdown",
   "metadata": {},
   "source": [
    "Among the two married and single groupes, single customers happen to default on their next month payment slightly less than the married ones. However, those with other types of marital status are the ones that have the higher average default values. Conversely, those with unknown marital status tend to default less frequently on their next month payment."
   ]
  },
  {
   "cell_type": "markdown",
   "metadata": {},
   "source": [
    "### Credit"
   ]
  },
  {
   "cell_type": "markdown",
   "metadata": {},
   "source": [
    "Now, let's look at the distribution customers' account credits, based on their default category."
   ]
  },
  {
   "cell_type": "code",
   "execution_count": 163,
   "metadata": {},
   "outputs": [
    {
     "data": {
      "text/plain": [
       "Text(0, 0.5, 'Credit Card Limits Counts')"
      ]
     },
     "execution_count": 163,
     "metadata": {},
     "output_type": "execute_result"
    },
    {
     "data": {
      "image/png": "[encoded data removed]",
      "text/plain": [
       "<Figure size 864x432 with 1 Axes>"
      ]
     },
     "metadata": {
      "needs_background": "light"
     },
     "output_type": "display_data"
    }
   ],
   "source": [
    "fig, ax = plt.subplots(figsize = (12,6))\n",
    "\n",
    "ax.hist('LIMIT_BAL', data=df, bins=200, color='steelblue');\n",
    "ax.set_title('Credit Card Limits')\n",
    "ax.set_xlabel('Limit Values')\n",
    "ax.set_ylabel('Credit Card Limits Counts')"
   ]
  },
  {
   "cell_type": "markdown",
   "metadata": {},
   "source": [
    "Apparently, the majority of the credit card limits are around 50000. "
   ]
  },
  {
   "cell_type": "code",
   "execution_count": 165,
   "metadata": {},
   "outputs": [
    {
     "data": {
      "text/plain": [
       "50000.0     3365\n",
       "20000.0     1976\n",
       "30000.0     1610\n",
       "80000.0     1567\n",
       "200000.0    1524\n",
       "Name: LIMIT_BAL, dtype: int64"
      ]
     },
     "execution_count": 165,
     "metadata": {},
     "output_type": "execute_result"
    }
   ],
   "source": [
    "df['LIMIT_BAL'].value_counts().head()"
   ]
  },
  {
   "cell_type": "markdown",
   "metadata": {},
   "source": [
    "Let's now see the average credit limits, as well as their distribution according to their default status."
   ]
  },
  {
   "cell_type": "code",
   "execution_count": 168,
   "metadata": {},
   "outputs": [
    {
     "data": {
      "text/html": [
       "<div>\n",
       "<style scoped>\n",
       "    .dataframe tbody tr th:only-of-type {\n",
       "        vertical-align: middle;\n",
       "    }\n",
       "\n",
       "    .dataframe tbody tr th {\n",
       "        vertical-align: top;\n",
       "    }\n",
       "\n",
       "    .dataframe thead th {\n",
       "        text-align: right;\n",
       "    }\n",
       "</style>\n",
       "<table border=\"1\" class=\"dataframe\">\n",
       "  <thead>\n",
       "    <tr style=\"text-align: right;\">\n",
       "      <th></th>\n",
       "      <th>default_payment</th>\n",
       "      <th>avg_values</th>\n",
       "    </tr>\n",
       "  </thead>\n",
       "  <tbody>\n",
       "    <tr>\n",
       "      <th>0</th>\n",
       "      <td>0</td>\n",
       "      <td>177833.376255</td>\n",
       "    </tr>\n",
       "    <tr>\n",
       "      <th>1</th>\n",
       "      <td>1</td>\n",
       "      <td>129891.036355</td>\n",
       "    </tr>\n",
       "  </tbody>\n",
       "</table>\n",
       "</div>"
      ],
      "text/plain": [
       "   default_payment     avg_values\n",
       "0                0  177833.376255\n",
       "1                1  129891.036355"
      ]
     },
     "execution_count": 168,
     "metadata": {},
     "output_type": "execute_result"
    }
   ],
   "source": [
    "df_BAL = get_average_values('LIMIT_BAL')\n",
    "df_BAL"
   ]
  },
  {
   "cell_type": "code",
   "execution_count": 175,
   "metadata": {},
   "outputs": [
    {
     "data": {
      "text/plain": [
       "Text(0.5, 1.0, 'Avg Credit Grouped by Default Status')"
      ]
     },
     "execution_count": 175,
     "metadata": {},
     "output_type": "execute_result"
    },
    {
     "data": {
      "image/png": "[encoded data removed]",
      "text/plain": [
       "<Figure size 360x288 with 1 Axes>"
      ]
     },
     "metadata": {
      "needs_background": "light"
     },
     "output_type": "display_data"
    }
   ],
   "source": [
    "fig1 = plt.figure(figsize = (5,4))\n",
    "ax = fig1.add_subplot(111)\n",
    "ax.bar('default_payment','avg_values', data=df_BAL\n",
    "       , color=('red','blue'))\n",
    "ax.set_xticks([0,1])\n",
    "ax.set_xticklabels(['Not_default','Default'], ha='center')\n",
    "ax.set_yticks(np.arange(0,180001,30000))\n",
    "ax.set_ylabel('Avg Credit Limit')\n",
    "ax.set_title('Avg Credit Grouped by Default Status')"
   ]
  },
  {
   "cell_type": "markdown",
   "metadata": {},
   "source": [
    "We can see that those who do not default on their credit card payment have a higher average credit card than those who do by about 5K. \n",
    "\n",
    "Let's now consider their distributions:"
   ]
  },
  {
   "cell_type": "code",
   "execution_count": 186,
   "metadata": {},
   "outputs": [
    {
     "data": {
      "text/plain": [
       "<matplotlib.legend.Legend at 0x7f4107928710>"
      ]
     },
     "execution_count": 186,
     "metadata": {},
     "output_type": "execute_result"
    },
    {
     "data": {
      "image/png": "[encoded data removed]",
      "text/plain": [
       "<Figure size 864x432 with 1 Axes>"
      ]
     },
     "metadata": {
      "needs_background": "light"
     },
     "output_type": "display_data"
    }
   ],
   "source": [
    "fig, ax = plt.subplots(figsize = (12,6))\n",
    "\n",
    "default_df = df.loc[df['default_payment']==1]['LIMIT_BAL']\n",
    "non_default_df = df.loc[df['default_payment']==0]['LIMIT_BAL']\n",
    "ax.hist(default_df, bins=200, color='red', normed=True, label='default');\n",
    "ax.hist(non_default_df, bins=200, color='green', normed=True, label='non_default');\n",
    "ax.set_title('Credit Card Limits Grouped by Default Group')\n",
    "ax.legend()"
   ]
  },
  {
   "cell_type": "markdown",
   "metadata": {},
   "source": [
    "The majority of those who default have credit limit values of about or less than 50k."
   ]
  },
  {
   "cell_type": "markdown",
   "metadata": {},
   "source": [
    "### Age\n",
    "\n",
    "Let's repeat the same process for the distribution of the age of customers and their default status according to their age."
   ]
  },
  {
   "cell_type": "code",
   "execution_count": 188,
   "metadata": {},
   "outputs": [
    {
     "data": {
      "text/plain": [
       "<matplotlib.legend.Legend at 0x7f4106082e10>"
      ]
     },
     "execution_count": 188,
     "metadata": {},
     "output_type": "execute_result"
    },
    {
     "data": {
      "image/png": "[encoded data removed]",
      "text/plain": [
       "<Figure size 864x432 with 1 Axes>"
      ]
     },
     "metadata": {
      "needs_background": "light"
     },
     "output_type": "display_data"
    }
   ],
   "source": [
    "fig, ax = plt.subplots(figsize = (12,6))\n",
    "\n",
    "default_df = df.loc[df['default_payment']==1]['AGE']\n",
    "non_default_df = df.loc[df['default_payment']==0]['AGE']\n",
    "ax.hist(default_df, bins=200, color='red', normed=True, label='default');\n",
    "ax.hist(non_default_df, bins=200, color='green', normed=True, label='non_default');\n",
    "ax.set_title('AGE Grouped by Default Group')\n",
    "ax.legend()"
   ]
  },
  {
   "cell_type": "markdown",
   "metadata": {},
   "source": [
    "We can see that, in general, the majority of customers are under 35. Also, the main group of those who default on their next payment are between 25-30 years old."
   ]
  },
  {
   "cell_type": "markdown",
   "metadata": {},
   "source": [
    "<a id='build-model'></a>"
   ]
  },
  {
   "cell_type": "markdown",
   "metadata": {},
   "source": [
    "# Build the model\n",
    "\n",
    "When dealing with large datasets, we would want to build data piplelines and build the model on distibuted systems, like Google ML. \n",
    "\n",
    "Let's start by preprocessing the data."
   ]
  },
  {
   "cell_type": "markdown",
   "metadata": {},
   "source": [
    "<a id='preprocess'></a>"
   ]
  },
  {
   "cell_type": "markdown",
   "metadata": {},
   "source": [
    "### Preprocessing using Dataflow\n",
    "\n",
    "We'll be using Apache Beam to preprocess the data. Let's first install Apache Beam, and check that the correct [version](#version) has been installed:"
   ]
  },
  {
   "cell_type": "code",
   "execution_count": 5,
   "metadata": {},
   "outputs": [
    {
     "name": "stdout",
     "output_type": "stream",
     "text": [
      "Requirement already satisfied: apache-beam[gcp]==2.13.0 in ./.local/lib/python3.5/site-packages (2.13.0)\n",
      "Requirement already satisfied: protobuf<4,>=3.5.0.post1 in /usr/local/lib/python3.5/dist-packages (from apache-beam[gcp]==2.13.0) (3.10.0)\n",
      "Requirement already satisfied: pydot<1.3,>=1.2.0 in ./.local/lib/python3.5/site-packages (from apache-beam[gcp]==2.13.0) (1.2.4)\n",
      "Requirement already satisfied: httplib2<=0.12.0,>=0.8 in ./.local/lib/python3.5/site-packages (from apache-beam[gcp]==2.13.0) (0.12.0)\n",
      "Requirement already satisfied: mock<3.0.0,>=1.0.1 in ./.local/lib/python3.5/site-packages (from apache-beam[gcp]==2.13.0) (2.0.0)\n",
      "Requirement already satisfied: pytz>=2018.3 in /usr/local/lib/python3.5/dist-packages (from apache-beam[gcp]==2.13.0) (2019.3)\n",
      "Requirement already satisfied: fastavro<0.22,>=0.21.4 in ./.local/lib/python3.5/site-packages (from apache-beam[gcp]==2.13.0) (0.21.24)\n",
      "Requirement already satisfied: future<1.0.0,>=0.16.0 in /usr/local/lib/python3.5/dist-packages (from apache-beam[gcp]==2.13.0) (0.18.1)\n",
      "Requirement already satisfied: crcmod<2.0,>=1.7 in ./.local/lib/python3.5/site-packages (from apache-beam[gcp]==2.13.0) (1.7)\n",
      "Requirement already satisfied: pyyaml<4.0.0,>=3.12 in ./.local/lib/python3.5/site-packages (from apache-beam[gcp]==2.13.0) (3.13)\n",
      "Requirement already satisfied: pyarrow<0.14.0,>=0.11.1; python_version >= \"3.0\" or platform_system != \"Windows\" in ./.local/lib/python3.5/site-packages (from apache-beam[gcp]==2.13.0) (0.13.0)\n",
      "Requirement already satisfied: hdfs<3.0.0,>=2.1.0 in ./.local/lib/python3.5/site-packages (from apache-beam[gcp]==2.13.0) (2.5.8)\n",
      "Requirement already satisfied: dill<0.2.10,>=0.2.9 in ./.local/lib/python3.5/site-packages (from apache-beam[gcp]==2.13.0) (0.2.9)\n",
      "Requirement already satisfied: grpcio<2,>=1.8 in /usr/local/lib/python3.5/dist-packages (from apache-beam[gcp]==2.13.0) (1.24.3)\n",
      "Requirement already satisfied: avro-python3<2.0.0,>=1.8.1; python_version >= \"3.0\" in ./.local/lib/python3.5/site-packages (from apache-beam[gcp]==2.13.0) (1.9.1)\n",
      "Requirement already satisfied: oauth2client<4,>=2.0.1 in ./.local/lib/python3.5/site-packages (from apache-beam[gcp]==2.13.0) (3.0.0)\n",
      "Requirement already satisfied: google-cloud-core<0.30.0,>=0.28.1; extra == \"gcp\" in ./.local/lib/python3.5/site-packages (from apache-beam[gcp]==2.13.0) (0.29.1)\n",
      "Requirement already satisfied: google-cloud-bigquery<1.7.0,>=1.6.0; extra == \"gcp\" in ./.local/lib/python3.5/site-packages (from apache-beam[gcp]==2.13.0) (1.6.2)\n",
      "Requirement already satisfied: google-cloud-datastore<1.8.0,>=1.7.1; extra == \"gcp\" in ./.local/lib/python3.5/site-packages (from apache-beam[gcp]==2.13.0) (1.7.4)\n",
      "Requirement already satisfied: google-cloud-bigtable<0.33.0,>=0.31.1; extra == \"gcp\" in ./.local/lib/python3.5/site-packages (from apache-beam[gcp]==2.13.0) (0.32.2)\n",
      "Requirement already satisfied: cachetools<4,>=3.1.0; extra == \"gcp\" in /usr/local/lib/python3.5/dist-packages (from apache-beam[gcp]==2.13.0) (3.1.1)\n",
      "Requirement already satisfied: google-apitools<0.5.29,>=0.5.28; extra == \"gcp\" in ./.local/lib/python3.5/site-packages (from apache-beam[gcp]==2.13.0) (0.5.28)\n",
      "Requirement already satisfied: google-cloud-pubsub<0.40.0,>=0.39.0; extra == \"gcp\" in ./.local/lib/python3.5/site-packages (from apache-beam[gcp]==2.13.0) (0.39.1)\n",
      "Requirement already satisfied: setuptools in /usr/local/lib/python3.5/dist-packages (from protobuf<4,>=3.5.0.post1->apache-beam[gcp]==2.13.0) (41.5.0)\n",
      "Requirement already satisfied: six>=1.9 in /usr/local/lib/python3.5/dist-packages (from protobuf<4,>=3.5.0.post1->apache-beam[gcp]==2.13.0) (1.12.0)\n",
      "Requirement already satisfied: pyparsing>=2.1.4 in /usr/local/lib/python3.5/dist-packages (from pydot<1.3,>=1.2.0->apache-beam[gcp]==2.13.0) (2.4.2)\n",
      "Requirement already satisfied: pbr>=0.11 in ./.local/lib/python3.5/site-packages (from mock<3.0.0,>=1.0.1->apache-beam[gcp]==2.13.0) (5.4.3)\n",
      "Requirement already satisfied: numpy>=1.14 in /usr/local/lib/python3.5/dist-packages (from pyarrow<0.14.0,>=0.11.1; python_version >= \"3.0\" or platform_system != \"Windows\"->apache-beam[gcp]==2.13.0) (1.17.3)\n",
      "Requirement already satisfied: docopt in ./.local/lib/python3.5/site-packages (from hdfs<3.0.0,>=2.1.0->apache-beam[gcp]==2.13.0) (0.6.2)\n",
      "Requirement already satisfied: requests>=2.7.0 in /usr/local/lib/python3.5/dist-packages (from hdfs<3.0.0,>=2.1.0->apache-beam[gcp]==2.13.0) (2.22.0)\n",
      "Requirement already satisfied: pyasn1-modules>=0.0.5 in /usr/local/lib/python3.5/dist-packages (from oauth2client<4,>=2.0.1->apache-beam[gcp]==2.13.0) (0.2.7)\n",
      "Requirement already satisfied: rsa>=3.1.4 in /usr/local/lib/python3.5/dist-packages (from oauth2client<4,>=2.0.1->apache-beam[gcp]==2.13.0) (4.0)\n",
      "Requirement already satisfied: pyasn1>=0.1.7 in /usr/local/lib/python3.5/dist-packages (from oauth2client<4,>=2.0.1->apache-beam[gcp]==2.13.0) (0.4.7)\n",
      "Requirement already satisfied: google-api-core<2.0.0dev,>=1.0.0 in /usr/local/lib/python3.5/dist-packages (from google-cloud-core<0.30.0,>=0.28.1; extra == \"gcp\"->apache-beam[gcp]==2.13.0) (1.14.3)\n",
      "Requirement already satisfied: google-resumable-media<0.5.0dev,>=0.2.1 in /usr/local/lib/python3.5/dist-packages (from google-cloud-bigquery<1.7.0,>=1.6.0; extra == \"gcp\"->apache-beam[gcp]==2.13.0) (0.4.1)\n",
      "Requirement already satisfied: grpc-google-iam-v1<0.12dev,>=0.11.4 in ./.local/lib/python3.5/site-packages (from google-cloud-bigtable<0.33.0,>=0.31.1; extra == \"gcp\"->apache-beam[gcp]==2.13.0) (0.11.4)\n",
      "Requirement already satisfied: fasteners>=0.14 in ./.local/lib/python3.5/site-packages (from google-apitools<0.5.29,>=0.5.28; extra == \"gcp\"->apache-beam[gcp]==2.13.0) (0.15)\n",
      "Requirement already satisfied: chardet<3.1.0,>=3.0.2 in /usr/local/lib/python3.5/dist-packages (from requests>=2.7.0->hdfs<3.0.0,>=2.1.0->apache-beam[gcp]==2.13.0) (3.0.4)\n",
      "Requirement already satisfied: certifi>=2017.4.17 in /usr/local/lib/python3.5/dist-packages (from requests>=2.7.0->hdfs<3.0.0,>=2.1.0->apache-beam[gcp]==2.13.0) (2019.9.11)\n",
      "Requirement already satisfied: urllib3!=1.25.0,!=1.25.1,<1.26,>=1.21.1 in /usr/local/lib/python3.5/dist-packages (from requests>=2.7.0->hdfs<3.0.0,>=2.1.0->apache-beam[gcp]==2.13.0) (1.24.2)\n",
      "Requirement already satisfied: idna<2.9,>=2.5 in /usr/local/lib/python3.5/dist-packages (from requests>=2.7.0->hdfs<3.0.0,>=2.1.0->apache-beam[gcp]==2.13.0) (2.8)\n",
      "Requirement already satisfied: googleapis-common-protos<2.0dev,>=1.6.0 in /usr/local/lib/python3.5/dist-packages (from google-api-core<2.0.0dev,>=1.0.0->google-cloud-core<0.30.0,>=0.28.1; extra == \"gcp\"->apache-beam[gcp]==2.13.0) (1.6.0)\n",
      "Requirement already satisfied: google-auth<2.0dev,>=0.4.0 in /usr/local/lib/python3.5/dist-packages (from google-api-core<2.0.0dev,>=1.0.0->google-cloud-core<0.30.0,>=0.28.1; extra == \"gcp\"->apache-beam[gcp]==2.13.0) (1.6.3)\n",
      "Requirement already satisfied: monotonic>=0.1 in ./.local/lib/python3.5/site-packages (from fasteners>=0.14->google-apitools<0.5.29,>=0.5.28; extra == \"gcp\"->apache-beam[gcp]==2.13.0) (1.5)\n"
     ]
    }
   ],
   "source": [
    "%%bash\n",
    "pip install apache-beam[gcp]==2.13.0 --user"
   ]
  },
  {
   "cell_type": "markdown",
   "metadata": {},
   "source": [
    "<a id='version'></a>"
   ]
  },
  {
   "cell_type": "code",
   "execution_count": 193,
   "metadata": {},
   "outputs": [
    {
     "name": "stdout",
     "output_type": "stream",
     "text": [
      "2.13.0\n"
     ]
    }
   ],
   "source": [
    "import apache_beam as beam\n",
    "print(beam.__version__)"
   ]
  },
  {
   "cell_type": "markdown",
   "metadata": {},
   "source": [
    "First, we need to preprocess the data, create Train and Validation subsets of the data, and save them to the directory. I've defined the function `to_csv` that will go through each row of the dataset and write them to a csv file. This function will be used in the process of creating the piplelines using Apache beam in the subsequent function, `preprocess_data`.\n",
    "\n",
    "The preprocessing involves of changing the labels of categorical columns, such as SEX, MARRIAGE, and EDUCATION:"
   ]
  },
  {
   "cell_type": "code",
   "execution_count": 50,
   "metadata": {},
   "outputs": [
    {
     "name": "stdout",
     "output_type": "stream",
     "text": [
      "Launching Dataflow job preprocess-credit-features-191112-025746 ... hang on\n"
     ]
    }
   ],
   "source": [
    "def to_csv(row):\n",
    "    import hashlib\n",
    "    \n",
    "    COLUMNS = ['LIMIT_BAL','SEX','EDUCATION','MARRIAGE','AGE','PAY_1','PAY_2','PAY_3',\\\n",
    "               'PAY_4','PAY_5','PAY_6','BILL_AMT1','BILL_AMT2','BILL_AMT3','BILL_AMT4',\\\n",
    "               'BILL_AMT5','BILL_AMT6','PAY_AMT1','PAY_AMT2','PAY_AMT3','PAY_AMT4',\\\n",
    "               'PAY_AMT5','PAY_AMT6','default_payment']\n",
    "        \n",
    "    row['SEX'] = ['Male', 'Female'][row['SEX'] - 1]\n",
    "    row['MARRIAGE'] = ['Unknown','Married','Single','Others'][row['MARRIAGE']]\n",
    "    \n",
    "    if row['EDUCATION']==0:\n",
    "        row['EDUCATION'] = 5\n",
    "    \n",
    "    row['EDUCATION'] = ['Graduate','University','High-school','Others','Unknown1','Unknown2'][row['EDUCATION'] - 1]\n",
    "    \n",
    "    for pay in ['PAY_1','PAY_2','PAY_3','PAY_4','PAY_5','PAY_6']:\n",
    "        if row[pay] < 0:\n",
    "            row[pay] = 0\n",
    "    \n",
    "    data = ','.join([str(row[k]) if k in row else 'None' for k in COLUMNS])\n",
    "    \n",
    "    ### hash the columns to create a key for each row\n",
    "    key = hashlib.sha224(data.encode('utf-8')).hexdigest()  \n",
    "    yield str('{},{}'.format(data, key))\n"
   ]
  },
  {
   "cell_type": "code",
   "execution_count": 111,
   "metadata": {},
   "outputs": [
    {
     "name": "stdout",
     "output_type": "stream",
     "text": [
      "Launching Dataflow job preprocess-credit-features-191124-045735 ... hang on\n"
     ]
    }
   ],
   "source": [
    "def preprocess_data(test_mode):\n",
    "    import shutil, os, subprocess\n",
    "    job_name = 'preprocess-credit-features' + '-' + datetime.datetime.now().strftime('%y%m%d-%H%M%S')\n",
    "\n",
    "    if test_mode:\n",
    "        print('Launching local job:')\n",
    "        OUTPUT_DIR = './preproc'\n",
    "        ### delete output directory if it exists\n",
    "        shutil.rmtree(OUTPUT_DIR, ignore_errors=True)\n",
    "        ### create the directory\n",
    "        os.makedirs(OUTPUT_DIR)\n",
    "    else:\n",
    "        print('Launching Dataflow job {}:'.format(job_name))\n",
    "        OUTPUT_DIR = 'gs://{0}/credit_card/preproc/'.format(BUCKET)\n",
    "        try:\n",
    "            subprocess.check_call('gsutil -m rm -r {}'.format(OUTPUT_DIR).split())\n",
    "        except:\n",
    "            pass\n",
    "    \n",
    "    ### Let's define our own Apache Beam Options:\n",
    "    options = {\n",
    "      'staging_location': os.path.join(OUTPUT_DIR, 'tmp', 'staging'),\n",
    "      'temp_location': os.path.join(OUTPUT_DIR, 'tmp'),\n",
    "      'job_name': job_name,\n",
    "      'project': PROJECT,\n",
    "      'region': REGION,\n",
    "      'max_num_workers': 6\n",
    "       }\n",
    "    opts = beam.pipeline.PipelineOptions(flags = [], **options)\n",
    "    \n",
    "    if test_mode:\n",
    "        ### local mode\n",
    "        RUNNER = 'DirectRunner'\n",
    "    else:\n",
    "        RUNNER = 'DataflowRunner'\n",
    "        \n",
    "    p = beam.Pipeline(RUNNER, options = opts)\n",
    "    \n",
    "    ### Let's create the Train and Validate Datasets:\n",
    "    query = \"\"\"\n",
    "        SELECT \n",
    "            ABS(FARM_FINGERPRINT(CAST(ID AS STRING))) AS hashid,\n",
    "            LIMIT_BAL,\n",
    "            SEX,\n",
    "            EDUCATION,\n",
    "            MARRIAGE,\n",
    "            AGE,\n",
    "            PAY_0 AS PAY_1,\n",
    "            PAY_2,\n",
    "            PAY_3,\n",
    "            PAY_4,\n",
    "            PAY_5,\n",
    "            PAY_6,\n",
    "            CAST(BILL_AMT1 AS FLOAT64) AS BILL_AMT1,\n",
    "            CAST(BILL_AMT2 AS FLOAT64) AS BILL_AMT2,\n",
    "            CAST(BILL_AMT3 AS FLOAT64) AS BILL_AMT3,\n",
    "            CAST(BILL_AMT4 AS FLOAT64) AS BILL_AMT4,\n",
    "            CAST(BILL_AMT5 AS FLOAT64) AS BILL_AMT5,\n",
    "            CAST(BILL_AMT6 AS FLOAT64) AS BILL_AMT6,\n",
    "            CAST(PAY_AMT1 AS FLOAT64) AS PAY_AMT1,\n",
    "            CAST(PAY_AMT2 AS FLOAT64) AS PAY_AMT2,\n",
    "            CAST(PAY_AMT3 AS FLOAT64) AS PAY_AMT3,\n",
    "            CAST(PAY_AMT4 AS FLOAT64) AS PAY_AMT4,\n",
    "            CAST(PAY_AMT5 AS FLOAT64) AS PAY_AMT5,\n",
    "            CAST(PAY_AMT6 AS FLOAT64) AS PAY_AMT6,\n",
    "            CAST(default_payment_next_month AS INT64) AS default_payment\n",
    "        FROM\n",
    "          `subtle-digit-257500.credit_card.credit_card_1`\n",
    "        \"\"\"\n",
    "\n",
    "    if test_mode:\n",
    "        query = query + ' LIMIT 100' \n",
    "\n",
    "    for step in ['train', 'eval']:\n",
    "        if step == 'train':\n",
    "            selquery = 'SELECT * FROM ({}) WHERE MOD(ABS(hashid),4) < 3'.format(query)\n",
    "        else:\n",
    "            selquery = 'SELECT * FROM ({}) WHERE MOD(ABS(hashid),4) = 3'.format(query)\n",
    "\n",
    "        (p \n",
    "         | '{}_read'.format(step) >> beam.io.Read(beam.io.BigQuerySource(query = selquery, use_standard_sql = True))\n",
    "         | '{}_csv'.format(step) >> beam.FlatMap(to_csv)\n",
    "         | '{}_out'.format(step) >> beam.io.Write(beam.io.WriteToText(os.path.join(OUTPUT_DIR, '{}.csv'.format(step))))\n",
    "        )\n",
    "\n",
    "    job = p.run()\n",
    "    \n",
    "    \n",
    "    if test_mode:\n",
    "        job.wait_until_finish()\n",
    "        print(\"Done!\")\n",
    "    \n",
    "preprocess_data(test_mode = False)"
   ]
  },
  {
   "cell_type": "markdown",
   "metadata": {},
   "source": [
    "Let's make sure the files are created on Google Cloud Platform:"
   ]
  },
  {
   "cell_type": "code",
   "execution_count": 51,
   "metadata": {},
   "outputs": [
    {
     "name": "stdout",
     "output_type": "stream",
     "text": [
      "gs://credit_card_default/credit_card/preproc/eval.csv-00000-of-00001\n",
      "gs://credit_card_default/credit_card/preproc/train.csv-00000-of-00002\n"
     ]
    }
   ],
   "source": [
    "%%bash\n",
    "gsutil ls gs://${BUCKET}/credit_card/preproc/*-00000*"
   ]
  },
  {
   "cell_type": "markdown",
   "metadata": {},
   "source": [
    "<a id='train'></a>"
   ]
  },
  {
   "cell_type": "markdown",
   "metadata": {},
   "source": [
    "## Training on Cloud AI Platform"
   ]
  },
  {
   "cell_type": "markdown",
   "metadata": {},
   "source": [
    "Now, we are ready to build and train the model on AI platform. For this stage of building the model, we need to  create a Python Package with two modules,`task.py` that parses the arguments of the model specified in `model.py`."
   ]
  },
  {
   "cell_type": "code",
   "execution_count": 65,
   "metadata": {},
   "outputs": [
    {
     "name": "stdout",
     "output_type": "stream",
     "text": [
      "Overwriting credit_card/trainer/task.py\n"
     ]
    }
   ],
   "source": [
    "%%writefile credit_card/trainer/task.py\n",
    "\n",
    "import argparse\n",
    "import json\n",
    "import os\n",
    "\n",
    "from . import model\n",
    "\n",
    "import tensorflow as tf\n",
    "\n",
    "if __name__ == '__main__':\n",
    "    parser = argparse.ArgumentParser()\n",
    "    parser.add_argument(\n",
    "        '--bucket',\n",
    "        help = 'Path to data on Google Cloud Storage. Default://BUCKET/credit-card/preproc/',\n",
    "        required = True\n",
    "    )\n",
    "    parser.add_argument(\n",
    "        '--output_dir',\n",
    "        help = 'Location to write checkpoints and export models on Google Cloud Storage',\n",
    "        required = True\n",
    "    )\n",
    "    parser.add_argument(\n",
    "        '--batch_size',\n",
    "        help = 'Size of batches of to compute gradients over in each epoch.',\n",
    "        type = int,\n",
    "        default = 256\n",
    "    )\n",
    "    parser.add_argument(\n",
    "        '--job-dir',\n",
    "        help = 'This model ignores this field, but it is required by gcloud',\n",
    "        default = 'junk'\n",
    "    )\n",
    "    parser.add_argument(\n",
    "        '--nnsize',\n",
    "        help = 'Hidden layer sizes for DNN feature columns',\n",
    "        nargs = '+',\n",
    "        type = int,\n",
    "        default=[128, 32, 4]\n",
    "    )\n",
    "    parser.add_argument(\n",
    "        '--nembeds',\n",
    "        help = 'Embedding size of a cross of n key real-valued parameters',\n",
    "        type = int,\n",
    "        default = 3\n",
    "    )\n",
    " \n",
    "    parser.add_argument(\n",
    "        '--train_examples',\n",
    "        help = 'Number of examples (in thousands) to run the training job over. This determines the number of epochs.',\n",
    "        type = int,\n",
    "        default = 3000\n",
    "    )    \n",
    "    parser.add_argument(\n",
    "        '--pattern',\n",
    "        help = 'Specify a pattern that has to be in input files.',\n",
    "        default = 'of'\n",
    "    )\n",
    "    parser.add_argument(\n",
    "        '--eval_steps',\n",
    "        help = 'Positive number of steps for which to evaluate model. Default is None, meaning evaluate until input_fn raises an end-of-input exception',\n",
    "        type = int,       \n",
    "        default = None\n",
    "    )\n",
    "        \n",
    "    ### parse all arguments\n",
    "    args = parser.parse_args()\n",
    "    arguments = args.__dict__\n",
    "\n",
    "    ### unused args \n",
    "    arguments.pop('job_dir', None)\n",
    "\n",
    "    ### assigning the arguments to the model variables\n",
    "    output_dir = arguments.pop('output_dir')\n",
    "    model.BUCKET     = arguments.pop('bucket')\n",
    "    model.BATCH_SIZE = arguments.pop('batch_size')\n",
    "    model.TRAIN_STEPS = (arguments.pop('train_examples') * 1000) / model.BATCH_SIZE\n",
    "    model.EVAL_STEPS = arguments.pop('eval_steps')    \n",
    "    \n",
    "    print (\"Will train for {} steps using batch_size={}\".format(model.TRAIN_STEPS, model.BATCH_SIZE))\n",
    "    \n",
    "    model.PATTERN = arguments.pop('pattern')\n",
    "    model.NEMBEDS= arguments.pop('nembeds')\n",
    "    model.NNSIZE = arguments.pop('nnsize')\n",
    "    print (\"Will use DNN size of {}\".format(model.NNSIZE))\n",
    "\n",
    "    ### In the case of hyperparameter tuning, adds trial_id to the output path:\n",
    "    output_dir = os.path.join(output_dir,\n",
    "        json.loads(os.environ.get('TF_CONFIG', '{}')).get('task', {}).get('trial', ''))\n",
    "\n",
    "    # Run the training job\n",
    "    model.train_eval(output_dir)"
   ]
  },
  {
   "cell_type": "markdown",
   "metadata": {},
   "source": [
    "`Model.py` modules contains the handles reading the dataset and creating an iterator to feed it to the model with `make_one_shot_iterator` which is the easiest one. It then defines the feature columns, whether they are numeric or categorical columns. We'll then divide the feature columns into wide or deep feature space; the wide feature columns are sparse columns, whereas deep columns are those that have continous values. We can feature-cross the wide columns and embed them into a lower dimension. We also need to create a serving function that can serve the model with input data at prediction time. We can even add an evaluating metric. I chose to add ROC AUC. And then finally train and evaluate the model, using `DNNLinearCombinedClassifier` tensorflow estimator, since we have both wide and deep feature columns. Because we're using tensorflow.estmator, we don't need to worry about defining the neural network layers as part of the  computational graph or create and run sessions."
   ]
  },
  {
   "cell_type": "code",
   "execution_count": 90,
   "metadata": {},
   "outputs": [
    {
     "name": "stdout",
     "output_type": "stream",
     "text": [
      "Overwriting credit_card/trainer/model.py\n"
     ]
    }
   ],
   "source": [
    "%%writefile credit_card/trainer/model.py\n",
    "\n",
    "import shutil\n",
    "import numpy as np\n",
    "import tensorflow as tf\n",
    "\n",
    "tf.logging.set_verbosity(tf.logging.INFO)\n",
    "\n",
    "BUCKET = None  # set from task.py\n",
    "PATTERN = 'of' # gets all files\n",
    "\n",
    "# Determine CSV, label, and key columns\n",
    "CSV_COLUMNS = ['LIMIT_BAL','SEX','EDUCATION','MARRIAGE','AGE','PAY_1','PAY_2','PAY_3',\\\n",
    "               'PAY_4','PAY_5','PAY_6','BILL_AMT1','BILL_AMT2','BILL_AMT3','BILL_AMT4',\\\n",
    "               'BILL_AMT5','BILL_AMT6','PAY_AMT1','PAY_AMT2','PAY_AMT3','PAY_AMT4',\\\n",
    "               'PAY_AMT5','PAY_AMT6','default_payment','key']\n",
    "LABEL_COLUMN = 'default_payment'\n",
    "KEY_COLUMN = 'key'\n",
    "\n",
    "# Set default values for each CSV column\n",
    "DEFAULTS = [[0.0],['null'],['null'],['null'],[0.0],[0.0],[0.0],[0.0],[0.0],[0.0],[0.0],\n",
    "            [0.0],[0.0],[0.0],[0.0],[0.0],[0.0],[0.0],[0.0],[0.0],[0.0],[0.0],[0.0],[0],['nokey']]\n",
    "\n",
    "# Define some default hyperparameters\n",
    "TRAIN_STEPS = 10000\n",
    "EVAL_STEPS = None\n",
    "BATCH_SIZE = 256\n",
    "NEMBEDS = 3\n",
    "NNSIZE = [64, 16, 4]\n",
    "\n",
    "def read_dataset(prefix, mode, batch_size):\n",
    "    def input_function():\n",
    "        def decode_csv(value_column):\n",
    "            ### Convert CSV records to tensors:\n",
    "            columns = tf.decode_csv(value_column, record_defaults=DEFAULTS)\n",
    "            features = dict(zip(CSV_COLUMNS, columns))\n",
    "            label = features.pop(LABEL_COLUMN)\n",
    "            return features, label\n",
    "        \n",
    "        file_path = 'gs://{}/credit_card/preproc/{}*{}*'.format(BUCKET, prefix, PATTERN)\n",
    "\n",
    "        file_list = tf.gfile.Glob(file_path)\n",
    "        \n",
    "        ### Map csv files to tensor\n",
    "        dataset = (tf.data.TextLineDataset(file_list).map(decode_csv))  \n",
    "      \n",
    "        if mode == tf.estimator.ModeKeys.TRAIN:\n",
    "            num_epochs = None \n",
    "            ### Shuffle the datasets for each epoch of Gradient descent\n",
    "            dataset = dataset.shuffle(buffer_size = 10 * batch_size)\n",
    "        else:\n",
    "            num_epochs = 1 \n",
    " \n",
    "        dataset = dataset.repeat(num_epochs).batch(batch_size)\n",
    "        return dataset.make_one_shot_iterator().get_next()\n",
    "    return _input_fn\n",
    "\n",
    "### Define Feature Columns\n",
    "def get_wide_deep():\n",
    "    LIMIT_BAL,SEX,MARRIAGE,EDUCATION,AGE,PAY_1,PAY_2,PAY_3,PAY_4,PAY_5,PAY_6,\\\n",
    "    BILL_AMT1,BILL_AMT2,BILL_AMT3,BILL_AMT4,BILL_AMT5,BILL_AMT6,\\\n",
    "    PAY_AMT1,PAY_AMT2,PAY_AMT3,PAY_AMT4,PAY_AMT5,PAY_AMT6 = \\\n",
    "        [\\\n",
    "            tf.feature_column.numeric_column('LIMIT_BAL'),\n",
    "            tf.feature_column.categorical_column_with_vocabulary_list('SEX', ['Male', 'Female']),\n",
    "            tf.feature_column.categorical_column_with_vocabulary_list('MARRIAGE',['Unknown','Married','Single','Others']),\n",
    "            tf.feature_column.categorical_column_with_vocabulary_list('EDUCATION',\n",
    "                ['Graduate','University','High-school','Others','Unknown1','Unknown2']),\n",
    "            tf.feature_column.numeric_column('AGE'),\n",
    "            tf.feature_column.numeric_column('PAY_1'),\n",
    "            tf.feature_column.numeric_column('PAY_2'),\n",
    "            tf.feature_column.numeric_column('PAY_3'),\n",
    "            tf.feature_column.numeric_column('PAY_4'),\n",
    "            tf.feature_column.numeric_column('PAY_5'),\n",
    "            tf.feature_column.numeric_column('PAY_6'),\n",
    "            tf.feature_column.numeric_column('BILL_AMT1'),\n",
    "            tf.feature_column.numeric_column('BILL_AMT2'),\n",
    "            tf.feature_column.numeric_column('BILL_AMT3'),\n",
    "            tf.feature_column.numeric_column('BILL_AMT4'),\n",
    "            tf.feature_column.numeric_column('BILL_AMT5'),\n",
    "            tf.feature_column.numeric_column('BILL_AMT6'),\n",
    "            tf.feature_column.numeric_column('PAY_AMT1'),\n",
    "            tf.feature_column.numeric_column('PAY_AMT2'),\n",
    "            tf.feature_column.numeric_column('PAY_AMT3'),\n",
    "            tf.feature_column.numeric_column('PAY_AMT4'),\n",
    "            tf.feature_column.numeric_column('PAY_AMT5'),\n",
    "            tf.feature_column.numeric_column('PAY_AMT6'),\n",
    "        ]\n",
    "\n",
    "    ### Discretize some of the numeric feature columns:\n",
    "    balance_buckets = tf.feature_column.bucketized_column(LIMIT_BAL, \n",
    "                        boundaries=np.arange(10000,1000000,1000).tolist())\n",
    "    age_buckets = tf.feature_column.bucketized_column(AGE, \n",
    "                        boundaries=np.arange(21,79,1).tolist())\n",
    "    \n",
    "    ### Wide (sparse) columns\n",
    "    wide = [balance_buckets,age_buckets,SEX,MARRIAGE,EDUCATION]\n",
    "    \n",
    "    ### Feature cross wide columns and embed into a lower dimension:\n",
    "    crossed = tf.feature_column.crossed_column(wide, hash_bucket_size=10000)\n",
    "    embed = tf.feature_column.embedding_column(crossed, NEMBEDS)\n",
    "    \n",
    "    ### Deep (continuous) Columns\n",
    "    deep = [LIMIT_BAL,AGE,PAY_1,PAY_2,PAY_3,PAY_4,PAY_5,PAY_6,\\\n",
    "    BILL_AMT1,BILL_AMT2,BILL_AMT3,BILL_AMT4,BILL_AMT5,BILL_AMT6,\\\n",
    "    PAY_AMT1,PAY_AMT2,PAY_AMT3,PAY_AMT4,PAY_AMT5,PAY_AMT6,embed]\n",
    "    \n",
    "    return wide, deep\n",
    "\n",
    "\n",
    "def serve_input():\n",
    "    feature_placeholders = {\n",
    "        'LIMIT_BAL':tf.placeholder(tf.float32, [None]),\n",
    "        'SEX': tf.placeholder(tf.string, [None]),\n",
    "        'MARRIAGE': tf.placeholder(tf.string, [None]),\n",
    "        'EDUCATION': tf.placeholder(tf.string, [None]),\n",
    "        'AGE': tf.placeholder(tf.float32, [None]),\n",
    "        'PAY_1':tf.placeholder(tf.float32, [None]),\n",
    "        'PAY_2':tf.placeholder(tf.float32, [None]),\n",
    "        'PAY_3':tf.placeholder(tf.float32, [None]),\n",
    "        'PAY_4':tf.placeholder(tf.float32, [None]),\n",
    "        'PAY_5':tf.placeholder(tf.float32, [None]),\n",
    "        'PAY_6':tf.placeholder(tf.float32, [None]),\n",
    "        'BILL_AMT1':tf.placeholder(tf.float32, [None]),\n",
    "        'BILL_AMT2':tf.placeholder(tf.float32, [None]),\n",
    "        'BILL_AMT3':tf.placeholder(tf.float32, [None]),\n",
    "        'BILL_AMT4':tf.placeholder(tf.float32, [None]),\n",
    "        'BILL_AMT5':tf.placeholder(tf.float32, [None]),\n",
    "        'BILL_AMT6':tf.placeholder(tf.float32, [None]),\n",
    "        'PAY_AMT1':tf.placeholder(tf.float32, [None]),\n",
    "        'PAY_AMT2':tf.placeholder(tf.float32, [None]),\n",
    "        'PAY_AMT3':tf.placeholder(tf.float32, [None]),\n",
    "        'PAY_AMT4':tf.placeholder(tf.float32, [None]),\n",
    "        'PAY_AMT5':tf.placeholder(tf.float32, [None]),\n",
    "        'PAY_AMT6':tf.placeholder(tf.float32, [None]),\n",
    "        KEY_COLUMN: tf.placeholder_with_default(tf.constant(['nokey']), [None])\n",
    "    }\n",
    "    features = {\n",
    "        key: tf.expand_dims(tensor, -1)\n",
    "        for key, tensor in feature_placeholders.items()\n",
    "    }\n",
    "    return tf.estimator.export.ServingInputReceiver(features, feature_placeholders)\n",
    "\n",
    "### Add evaluation metrics\n",
    "def my_rmse(labels, predictions):\n",
    "    pred_values = predictions['logistic']\n",
    "    return {'auc': tf.metrics.auc(labels, pred_values, curve='ROC',summation_method='careful_interpolation')}\n",
    "\n",
    "\n",
    "def train_eval(output_dir):\n",
    "    tf.summary.FileWriterCache.clear() \n",
    "    wide, deep = get_wide_deep()\n",
    "    EVAL_INTERVAL = 300 # in seconds\n",
    "\n",
    "    ### Specify the estimator configuration: how often to write checkpoints and how many to keep \n",
    "    run_config = tf.estimator.RunConfig(save_checkpoints_secs = EVAL_INTERVAL,\n",
    "                                        keep_checkpoint_max = 3)\n",
    "    \n",
    "    estimator = tf.estimator.DNNLinearCombinedClassifier(\n",
    "        model_dir = output_dir,\n",
    "        linear_feature_columns = wide,\n",
    "        dnn_feature_columns = deep,\n",
    "        dnn_hidden_units = NNSIZE,\n",
    "        config = run_config)\n",
    "\n",
    "    ### Add evaluating metric\n",
    "    estimator = tf.contrib.estimator.add_metrics(estimator, my_rmse)\n",
    "    \n",
    "    ### Forward features to predictions dictionary:\n",
    "    estimator = tf.contrib.estimator.forward_features(estimator, KEY_COLUMN)\n",
    "    \n",
    "    ### Configuration for the \"train\" part for the train_and_evaluate call:\n",
    "    train_spec = tf.estimator.TrainSpec(\n",
    "        input_fn = read_dataset('train', tf.estimator.ModeKeys.TRAIN, BATCH_SIZE),\n",
    "        max_steps = TRAIN_STEPS)\n",
    "    \n",
    "    ### Export the serving graph and checkpoints for use in \n",
    "    exporter = tf.estimator.LatestExporter('exporter', serve_input, exports_to_keep=None) # disable garbage collection\n",
    "\n",
    "    ### Configuration for the \"eval\" part for the train_and_evaluate call:\n",
    "    eval_spec = tf.estimator.EvalSpec(\n",
    "        input_fn = read_dataset('eval', tf.estimator.ModeKeys.EVAL, 2**15), \n",
    "        steps = EVAL_STEPS,\n",
    "        start_delay_secs = 60, \n",
    "        throttle_secs = EVAL_INTERVAL, \n",
    "        exporters = exporter)\n",
    "\n",
    "    ### train and evaluate:\n",
    "    tf.estimator.train_and_evaluate(estimator, train_spec, eval_spec)"
   ]
  },
  {
   "cell_type": "markdown",
   "metadata": {},
   "source": [
    "We also need an init file in the package in order for the modules to work:"
   ]
  },
  {
   "cell_type": "code",
   "execution_count": 64,
   "metadata": {},
   "outputs": [
    {
     "name": "stdout",
     "output_type": "stream",
     "text": [
      "Overwriting credit_card/trainer/__init__.py\n"
     ]
    }
   ],
   "source": [
    "%%writefile credit_card/trainer/__init__.py\n",
    "\n",
    "### __init__.py"
   ]
  },
  {
   "cell_type": "markdown",
   "metadata": {},
   "source": [
    "After moving the code to a package, we need to make sure it works before deploying it on [Google AI Platform](#hyperparameters). "
   ]
  },
  {
   "cell_type": "code",
   "execution_count": 92,
   "metadata": {},
   "outputs": [
    {
     "name": "stdout",
     "output_type": "stream",
     "text": [
      "bucket=credit_card_default\n",
      "/home/jupyter\n",
      "Will train for 3 steps using batch_size=256\n",
      "Will use DNN size of [128, 32, 4]\n"
     ]
    },
    {
     "name": "stderr",
     "output_type": "stream",
     "text": [
      "WARNING:tensorflow:From /home/jupyter/credit_card/trainer/model.py:6: The name tf.logging.set_verbosity is deprecated. Please use tf.compat.v1.logging.set_verbosity instead.\n",
      "\n",
      "WARNING:tensorflow:From /home/jupyter/credit_card/trainer/model.py:6: The name tf.logging.INFO is deprecated. Please use tf.compat.v1.logging.INFO instead.\n",
      "\n",
      "WARNING:tensorflow:From /home/jupyter/credit_card/trainer/model.py:143: The name tf.summary.FileWriterCache is deprecated. Please use tf.compat.v1.summary.FileWriterCache instead.\n",
      "\n",
      "INFO:tensorflow:Using config: {'_save_checkpoints_secs': 300, '_num_ps_replicas': 0, '_keep_checkpoint_max': 3, '_task_type': 'worker', '_global_id_in_cluster': 0, '_is_chief': True, '_cluster_spec': <tensorflow.python.training.server_lib.ClusterSpec object at 0x7f444c963b10>, '_model_dir': 'credit_card_trained/', '_protocol': None, '_save_checkpoints_steps': None, '_keep_checkpoint_every_n_hours': 10000, '_service': None, '_session_config': allow_soft_placement: true\n",
      "graph_options {\n",
      "  rewrite_options {\n",
      "    meta_optimizer_iterations: ONE\n",
      "  }\n",
      "}\n",
      ", '_tf_random_seed': None, '_save_summary_steps': 100, '_device_fn': None, '_session_creation_timeout_secs': 7200, '_experimental_distribute': None, '_num_worker_replicas': 1, '_task_id': 0, '_log_step_count_steps': 100, '_experimental_max_worker_delay_secs': None, '_evaluation_master': '', '_eval_distribute': None, '_train_distribute': None, '_master': ''}\n",
      "WARNING:tensorflow:\n",
      "The TensorFlow contrib module will not be included in TensorFlow 2.0.\n",
      "For more information, please see:\n",
      "  * https://github.com/tensorflow/community/blob/master/rfcs/20180907-contrib-sunset.md\n",
      "  * https://github.com/tensorflow/addons\n",
      "  * https://github.com/tensorflow/io (for I/O related ops)\n",
      "If you depend on functionality not listed there, please file an issue.\n",
      "\n",
      "INFO:tensorflow:Using config: {'_save_checkpoints_secs': 300, '_num_ps_replicas': 0, '_keep_checkpoint_max': 3, '_task_type': 'worker', '_global_id_in_cluster': 0, '_is_chief': True, '_cluster_spec': <tensorflow.python.training.server_lib.ClusterSpec object at 0x7f444644f750>, '_model_dir': 'credit_card_trained/', '_protocol': None, '_save_checkpoints_steps': None, '_keep_checkpoint_every_n_hours': 10000, '_service': None, '_session_config': allow_soft_placement: true\n",
      "graph_options {\n",
      "  rewrite_options {\n",
      "    meta_optimizer_iterations: ONE\n",
      "  }\n",
      "}\n",
      ", '_tf_random_seed': None, '_save_summary_steps': 100, '_device_fn': None, '_session_creation_timeout_secs': 7200, '_experimental_distribute': None, '_num_worker_replicas': 1, '_task_id': 0, '_log_step_count_steps': 100, '_experimental_max_worker_delay_secs': None, '_evaluation_master': '', '_eval_distribute': None, '_train_distribute': None, '_master': ''}\n",
      "INFO:tensorflow:Using config: {'_save_checkpoints_secs': 300, '_num_ps_replicas': 0, '_keep_checkpoint_max': 3, '_task_type': 'worker', '_global_id_in_cluster': 0, '_is_chief': True, '_cluster_spec': <tensorflow.python.training.server_lib.ClusterSpec object at 0x7f444644f850>, '_model_dir': 'credit_card_trained/', '_protocol': None, '_save_checkpoints_steps': None, '_keep_checkpoint_every_n_hours': 10000, '_service': None, '_session_config': allow_soft_placement: true\n",
      "graph_options {\n",
      "  rewrite_options {\n",
      "    meta_optimizer_iterations: ONE\n",
      "  }\n",
      "}\n",
      ", '_tf_random_seed': None, '_save_summary_steps': 100, '_device_fn': None, '_session_creation_timeout_secs': 7200, '_experimental_distribute': None, '_num_worker_replicas': 1, '_task_id': 0, '_log_step_count_steps': 100, '_experimental_max_worker_delay_secs': None, '_evaluation_master': '', '_eval_distribute': None, '_train_distribute': None, '_master': ''}\n",
      "INFO:tensorflow:Not using Distribute Coordinator.\n",
      "INFO:tensorflow:Running training and evaluation locally (non-distributed).\n",
      "INFO:tensorflow:Start train and evaluate loop. The evaluate will happen after every checkpoint. Checkpoint frequency is determined based on RunConfig arguments: save_checkpoints_steps None or save_checkpoints_secs 300.\n",
      "WARNING:tensorflow:From /usr/local/lib/python2.7/dist-packages/tensorflow_core/python/training/training_util.py:236: initialized_value (from tensorflow.python.ops.variables) is deprecated and will be removed in a future version.\n",
      "Instructions for updating:\n",
      "Use Variable.read_value. Variables in 2.X are initialized automatically both in eager and graph (inside tf.defun) contexts.\n",
      "WARNING:tensorflow:From /home/jupyter/credit_card/trainer/model.py:40: The name tf.gfile.Glob is deprecated. Please use tf.io.gfile.glob instead.\n",
      "\n",
      "WARNING:tensorflow:From /usr/local/lib/python2.7/dist-packages/tensorflow_estimator/python/estimator/api/_v1/estimator/__init__.py:12: The name tf.estimator.inputs is deprecated. Please use tf.compat.v1.estimator.inputs instead.\n",
      "\n",
      "WARNING:tensorflow:From /usr/local/lib/python2.7/dist-packages/tensorflow_core/python/autograph/converters/directives.py:119: The name tf.decode_csv is deprecated. Please use tf.io.decode_csv instead.\n",
      "\n",
      "WARNING:tensorflow:From /home/jupyter/credit_card/trainer/model.py:51: make_one_shot_iterator (from tensorflow.python.data.ops.dataset_ops) is deprecated and will be removed in a future version.\n",
      "Instructions for updating:\n",
      "Use `for ... in dataset:` to iterate over a dataset. If using `tf.estimator`, return the `Dataset` object directly from your input function. As a last resort, you can use `tf.compat.v1.data.make_one_shot_iterator(dataset)`.\n",
      "INFO:tensorflow:Calling model_fn.\n",
      "INFO:tensorflow:Calling model_fn.\n",
      "INFO:tensorflow:Calling model_fn.\n",
      "WARNING:tensorflow:From /usr/local/lib/python2.7/dist-packages/tensorflow_core/python/feature_column/feature_column_v2.py:3079: _num_buckets (from tensorflow.python.feature_column.feature_column_v2) is deprecated and will be removed in a future version.\n",
      "Instructions for updating:\n",
      "The old _FeatureColumn APIs are being deprecated. Please use the new FeatureColumn APIs instead.\n",
      "WARNING:tensorflow:From /usr/local/lib/python2.7/dist-packages/tensorflow_core/python/feature_column/feature_column_v2.py:305: add_variable (from tensorflow.python.keras.engine.base_layer) is deprecated and will be removed in a future version.\n",
      "Instructions for updating:\n",
      "Please use `layer.add_weight` method instead.\n",
      "WARNING:tensorflow:From /usr/local/lib/python2.7/dist-packages/tensorflow_core/python/ops/resource_variable_ops.py:1630: calling __init__ (from tensorflow.python.ops.resource_variable_ops) with constraint is deprecated and will be removed in a future version.\n",
      "Instructions for updating:\n",
      "If using Keras pass *_constraint arguments to layers.\n",
      "WARNING:tensorflow:From /usr/local/lib/python2.7/dist-packages/tensorflow_core/python/ops/embedding_ops.py:802: where (from tensorflow.python.ops.array_ops) is deprecated and will be removed in a future version.\n",
      "Instructions for updating:\n",
      "Use tf.where in 2.0, which has the same broadcast rule as np.where\n",
      "WARNING:tensorflow:From /usr/local/lib/python2.7/dist-packages/tensorflow_estimator/python/estimator/canned/linear.py:308: to_float (from tensorflow.python.ops.math_ops) is deprecated and will be removed in a future version.\n",
      "Instructions for updating:\n",
      "Use `tf.cast` instead.\n",
      "WARNING:tensorflow:From /usr/local/lib/python2.7/dist-packages/tensorflow_core/python/training/adagrad.py:76: calling __init__ (from tensorflow.python.ops.init_ops) with dtype is deprecated and will be removed in a future version.\n",
      "Instructions for updating:\n",
      "Call initializer instance with the dtype argument instead of passing it to the constructor\n",
      "INFO:tensorflow:Done calling model_fn.\n",
      "INFO:tensorflow:Done calling model_fn.\n",
      "INFO:tensorflow:Done calling model_fn.\n",
      "INFO:tensorflow:Create CheckpointSaverHook.\n",
      "INFO:tensorflow:Graph was finalized.\n",
      "2019-11-12 04:01:51.635438: I tensorflow/core/platform/cpu_feature_guard.cc:145] This TensorFlow binary is optimized with Intel(R) MKL-DNN to use the following CPU instructions in performance critical operations:  AVX2 FMA\n",
      "To enable them in non-MKL-DNN operations, rebuild TensorFlow with the appropriate compiler flags.\n",
      "2019-11-12 04:01:51.644615: I tensorflow/core/platform/profile_utils/cpu_utils.cc:94] CPU Frequency: 2200000000 Hz\n",
      "2019-11-12 04:01:51.644937: I tensorflow/compiler/xla/service/service.cc:168] XLA service 0x55b7f5062080 initialized for platform Host (this does not guarantee that XLA will be used). Devices:\n",
      "2019-11-12 04:01:51.644980: I tensorflow/compiler/xla/service/service.cc:176]   StreamExecutor device (0): Host, Default Version\n",
      "2019-11-12 04:01:51.645467: I tensorflow/core/common_runtime/process_util.cc:115] Creating new thread pool with default inter op setting: 2. Tune using inter_op_parallelism_threads for best performance.\n",
      "INFO:tensorflow:Running local_init_op.\n",
      "INFO:tensorflow:Done running local_init_op.\n",
      "INFO:tensorflow:Saving checkpoints for 0 into credit_card_trained/model.ckpt.\n",
      "INFO:tensorflow:loss = 685242.4, step = 1\n",
      "INFO:tensorflow:Saving checkpoints for 3 into credit_card_trained/model.ckpt.\n",
      "INFO:tensorflow:Calling model_fn.\n",
      "INFO:tensorflow:Calling model_fn.\n",
      "INFO:tensorflow:Calling model_fn.\n",
      "WARNING:tensorflow:From /usr/local/lib/python2.7/dist-packages/tensorflow_core/python/ops/metrics_impl.py:2026: div (from tensorflow.python.ops.math_ops) is deprecated and will be removed in a future version.\n",
      "Instructions for updating:\n",
      "Deprecated in favor of operator or tf.math.divide.\n",
      "WARNING:tensorflow:Trapezoidal rule is known to produce incorrect PR-AUCs; please switch to \"careful_interpolation\" instead.\n",
      "WARNING:tensorflow:Trapezoidal rule is known to produce incorrect PR-AUCs; please switch to \"careful_interpolation\" instead.\n",
      "INFO:tensorflow:Done calling model_fn.\n",
      "WARNING:tensorflow:From /home/jupyter/credit_card/trainer/model.py:139: The name tf.metrics.auc is deprecated. Please use tf.compat.v1.metrics.auc instead.\n",
      "\n",
      "INFO:tensorflow:Done calling model_fn.\n",
      "INFO:tensorflow:Done calling model_fn.\n",
      "INFO:tensorflow:Starting evaluation at 2019-11-12T04:01:59Z\n",
      "INFO:tensorflow:Graph was finalized.\n",
      "INFO:tensorflow:Restoring parameters from credit_card_trained/model.ckpt-3\n",
      "INFO:tensorflow:Running local_init_op.\n",
      "INFO:tensorflow:Done running local_init_op.\n",
      "INFO:tensorflow:Evaluation [1/1]\n",
      "INFO:tensorflow:Finished evaluation at 2019-11-12-04:02:04\n",
      "INFO:tensorflow:Saving dict for global step 3: accuracy = 0.36188552, accuracy_baseline = 0.7772391, auc = 0.41716373, auc_precision_recall = 0.40205228, average_loss = 702.962, global_step = 3, label/mean = 0.22276095, loss = 5219492.5, precision = 0.17981727, prediction/mean = 0.6593477, recall = 0.5235792, rmse = 0.41716373\n",
      "INFO:tensorflow:Saving 'checkpoint_path' summary for global step 3: credit_card_trained/model.ckpt-3\n",
      "WARNING:tensorflow:From /home/jupyter/credit_card/trainer/model.py:106: The name tf.placeholder is deprecated. Please use tf.compat.v1.placeholder instead.\n",
      "\n",
      "WARNING:tensorflow:From /home/jupyter/credit_card/trainer/model.py:129: The name tf.placeholder_with_default is deprecated. Please use tf.compat.v1.placeholder_with_default instead.\n",
      "\n",
      "INFO:tensorflow:Calling model_fn.\n",
      "INFO:tensorflow:Calling model_fn.\n",
      "INFO:tensorflow:Calling model_fn.\n",
      "INFO:tensorflow:Done calling model_fn.\n",
      "INFO:tensorflow:Done calling model_fn.\n",
      "INFO:tensorflow:Done calling model_fn.\n",
      "WARNING:tensorflow:From /usr/local/lib/python2.7/dist-packages/tensorflow_core/python/saved_model/signature_def_utils_impl.py:201: build_tensor_info (from tensorflow.python.saved_model.utils_impl) is deprecated and will be removed in a future version.\n",
      "Instructions for updating:\n",
      "This function will only be available through the v1 compatibility library as tf.compat.v1.saved_model.utils.build_tensor_info or tf.compat.v1.saved_model.build_tensor_info.\n",
      "INFO:tensorflow:Signatures INCLUDED in export for Eval: None\n",
      "INFO:tensorflow:Signatures INCLUDED in export for Classify: None\n",
      "INFO:tensorflow:Signatures INCLUDED in export for Regress: None\n",
      "INFO:tensorflow:Signatures INCLUDED in export for Predict: ['predict']\n",
      "INFO:tensorflow:Signatures INCLUDED in export for Train: None\n",
      "INFO:tensorflow:Signatures EXCLUDED from export because they cannot be be served via TensorFlow Serving APIs:\n",
      "INFO:tensorflow:'serving_default' : Classification input must be a single string Tensor; got {'AGE': <tf.Tensor 'Placeholder_4:0' shape=(?,) dtype=float32>, 'SEX': <tf.Tensor 'Placeholder_1:0' shape=(?,) dtype=string>, 'PAY_6': <tf.Tensor 'Placeholder_10:0' shape=(?,) dtype=float32>, 'PAY_4': <tf.Tensor 'Placeholder_8:0' shape=(?,) dtype=float32>, 'PAY_5': <tf.Tensor 'Placeholder_9:0' shape=(?,) dtype=float32>, 'PAY_2': <tf.Tensor 'Placeholder_6:0' shape=(?,) dtype=float32>, 'PAY_3': <tf.Tensor 'Placeholder_7:0' shape=(?,) dtype=float32>, 'PAY_1': <tf.Tensor 'Placeholder_5:0' shape=(?,) dtype=float32>, 'BILL_AMT5': <tf.Tensor 'Placeholder_15:0' shape=(?,) dtype=float32>, 'BILL_AMT4': <tf.Tensor 'Placeholder_14:0' shape=(?,) dtype=float32>, 'BILL_AMT6': <tf.Tensor 'Placeholder_16:0' shape=(?,) dtype=float32>, 'BILL_AMT1': <tf.Tensor 'Placeholder_11:0' shape=(?,) dtype=float32>, 'BILL_AMT3': <tf.Tensor 'Placeholder_13:0' shape=(?,) dtype=float32>, 'BILL_AMT2': <tf.Tensor 'Placeholder_12:0' shape=(?,) dtype=float32>, 'key': <tf.Tensor 'PlaceholderWithDefault:0' shape=(?,) dtype=string>, 'PAY_AMT6': <tf.Tensor 'Placeholder_22:0' shape=(?,) dtype=float32>, 'PAY_AMT5': <tf.Tensor 'Placeholder_21:0' shape=(?,) dtype=float32>, 'PAY_AMT4': <tf.Tensor 'Placeholder_20:0' shape=(?,) dtype=float32>, 'PAY_AMT3': <tf.Tensor 'Placeholder_19:0' shape=(?,) dtype=float32>, 'PAY_AMT2': <tf.Tensor 'Placeholder_18:0' shape=(?,) dtype=float32>, 'PAY_AMT1': <tf.Tensor 'Placeholder_17:0' shape=(?,) dtype=float32>, 'LIMIT_BAL': <tf.Tensor 'Placeholder:0' shape=(?,) dtype=float32>, 'MARRIAGE': <tf.Tensor 'Placeholder_2:0' shape=(?,) dtype=string>, 'EDUCATION': <tf.Tensor 'Placeholder_3:0' shape=(?,) dtype=string>}\n",
      "INFO:tensorflow:'regression' : Regression input must be a single string Tensor; got {'AGE': <tf.Tensor 'Placeholder_4:0' shape=(?,) dtype=float32>, 'SEX': <tf.Tensor 'Placeholder_1:0' shape=(?,) dtype=string>, 'PAY_6': <tf.Tensor 'Placeholder_10:0' shape=(?,) dtype=float32>, 'PAY_4': <tf.Tensor 'Placeholder_8:0' shape=(?,) dtype=float32>, 'PAY_5': <tf.Tensor 'Placeholder_9:0' shape=(?,) dtype=float32>, 'PAY_2': <tf.Tensor 'Placeholder_6:0' shape=(?,) dtype=float32>, 'PAY_3': <tf.Tensor 'Placeholder_7:0' shape=(?,) dtype=float32>, 'PAY_1': <tf.Tensor 'Placeholder_5:0' shape=(?,) dtype=float32>, 'BILL_AMT5': <tf.Tensor 'Placeholder_15:0' shape=(?,) dtype=float32>, 'BILL_AMT4': <tf.Tensor 'Placeholder_14:0' shape=(?,) dtype=float32>, 'BILL_AMT6': <tf.Tensor 'Placeholder_16:0' shape=(?,) dtype=float32>, 'BILL_AMT1': <tf.Tensor 'Placeholder_11:0' shape=(?,) dtype=float32>, 'BILL_AMT3': <tf.Tensor 'Placeholder_13:0' shape=(?,) dtype=float32>, 'BILL_AMT2': <tf.Tensor 'Placeholder_12:0' shape=(?,) dtype=float32>, 'key': <tf.Tensor 'PlaceholderWithDefault:0' shape=(?,) dtype=string>, 'PAY_AMT6': <tf.Tensor 'Placeholder_22:0' shape=(?,) dtype=float32>, 'PAY_AMT5': <tf.Tensor 'Placeholder_21:0' shape=(?,) dtype=float32>, 'PAY_AMT4': <tf.Tensor 'Placeholder_20:0' shape=(?,) dtype=float32>, 'PAY_AMT3': <tf.Tensor 'Placeholder_19:0' shape=(?,) dtype=float32>, 'PAY_AMT2': <tf.Tensor 'Placeholder_18:0' shape=(?,) dtype=float32>, 'PAY_AMT1': <tf.Tensor 'Placeholder_17:0' shape=(?,) dtype=float32>, 'LIMIT_BAL': <tf.Tensor 'Placeholder:0' shape=(?,) dtype=float32>, 'MARRIAGE': <tf.Tensor 'Placeholder_2:0' shape=(?,) dtype=string>, 'EDUCATION': <tf.Tensor 'Placeholder_3:0' shape=(?,) dtype=string>}\n",
      "INFO:tensorflow:'classification' : Classification input must be a single string Tensor; got {'AGE': <tf.Tensor 'Placeholder_4:0' shape=(?,) dtype=float32>, 'SEX': <tf.Tensor 'Placeholder_1:0' shape=(?,) dtype=string>, 'PAY_6': <tf.Tensor 'Placeholder_10:0' shape=(?,) dtype=float32>, 'PAY_4': <tf.Tensor 'Placeholder_8:0' shape=(?,) dtype=float32>, 'PAY_5': <tf.Tensor 'Placeholder_9:0' shape=(?,) dtype=float32>, 'PAY_2': <tf.Tensor 'Placeholder_6:0' shape=(?,) dtype=float32>, 'PAY_3': <tf.Tensor 'Placeholder_7:0' shape=(?,) dtype=float32>, 'PAY_1': <tf.Tensor 'Placeholder_5:0' shape=(?,) dtype=float32>, 'BILL_AMT5': <tf.Tensor 'Placeholder_15:0' shape=(?,) dtype=float32>, 'BILL_AMT4': <tf.Tensor 'Placeholder_14:0' shape=(?,) dtype=float32>, 'BILL_AMT6': <tf.Tensor 'Placeholder_16:0' shape=(?,) dtype=float32>, 'BILL_AMT1': <tf.Tensor 'Placeholder_11:0' shape=(?,) dtype=float32>, 'BILL_AMT3': <tf.Tensor 'Placeholder_13:0' shape=(?,) dtype=float32>, 'BILL_AMT2': <tf.Tensor 'Placeholder_12:0' shape=(?,) dtype=float32>, 'key': <tf.Tensor 'PlaceholderWithDefault:0' shape=(?,) dtype=string>, 'PAY_AMT6': <tf.Tensor 'Placeholder_22:0' shape=(?,) dtype=float32>, 'PAY_AMT5': <tf.Tensor 'Placeholder_21:0' shape=(?,) dtype=float32>, 'PAY_AMT4': <tf.Tensor 'Placeholder_20:0' shape=(?,) dtype=float32>, 'PAY_AMT3': <tf.Tensor 'Placeholder_19:0' shape=(?,) dtype=float32>, 'PAY_AMT2': <tf.Tensor 'Placeholder_18:0' shape=(?,) dtype=float32>, 'PAY_AMT1': <tf.Tensor 'Placeholder_17:0' shape=(?,) dtype=float32>, 'LIMIT_BAL': <tf.Tensor 'Placeholder:0' shape=(?,) dtype=float32>, 'MARRIAGE': <tf.Tensor 'Placeholder_2:0' shape=(?,) dtype=string>, 'EDUCATION': <tf.Tensor 'Placeholder_3:0' shape=(?,) dtype=string>}\n",
      "WARNING:tensorflow:Export includes no default signature!\n",
      "INFO:tensorflow:Restoring parameters from credit_card_trained/model.ckpt-3\n",
      "INFO:tensorflow:Assets added to graph.\n",
      "INFO:tensorflow:No assets to write.\n",
      "INFO:tensorflow:SavedModel written to: credit_card_trained/export/exporter/temp-1573531325/saved_model.pb\n",
      "INFO:tensorflow:Loss for final step: 212238.19.\n"
     ]
    }
   ],
   "source": [
    "%%bash\n",
    "echo \"bucket=${BUCKET}\"\n",
    "rm -rf credit_card_trained\n",
    "export PYTHONPATH=${PYTHONPATH}:${PWD}/credit_card\n",
    "echo ${PWD}\n",
    "python -m trainer.task \\\n",
    "  --bucket=${BUCKET} \\\n",
    "  --output_dir=credit_card_trained \\\n",
    "  --job-dir=./tmp \\\n",
    "  --pattern=\"00000-of-\" --train_examples=1 --eval_steps=1"
   ]
  },
  {
   "cell_type": "markdown",
   "metadata": {},
   "source": [
    "Let's check if the model can make a prediction. We'll feed it a json file specifying the feature values of the 100th example:"
   ]
  },
  {
   "cell_type": "code",
   "execution_count": 97,
   "metadata": {},
   "outputs": [
    {
     "name": "stdout",
     "output_type": "stream",
     "text": [
      "Overwriting inputs.json\n"
     ]
    }
   ],
   "source": [
    "%%writefile inputs.json\n",
    "{\"LIMIT_BAL\": 330000.0, \"SEX\": \"Male\", \"MARRIAGE\": \"Single\",\"EDUCATION\": \"Graduate\", \"AGE\": 25.0,\"PAY_1\": 0.0,\"PAY_2\": 0.0,\"PAY_3\": 0.0,\"PAY_4\": 0.0,\"PAY_5\": 2.0,\"PAY_6\": 0.0,\"BILL_AMT1\": 46140.0,\"BILL_AMT2\": 45781.0,\"BILL_AMT3\": 48139.0,\"BILL_AMT4\": 51137.0,\"BILL_AMT5\": 39450.0,\"BILL_AMT6\": 25358.0,\"PAY_AMT1\": 2504.0,\"PAY_AMT2\": 4007.0,\"PAY_AMT3\": 5056.0,\"PAY_AMT4\": 74.0,\"PAY_AMT5\": 1023.0,\"PAY_AMT6\": 2566.0}"
   ]
  },
  {
   "cell_type": "code",
   "execution_count": 98,
   "metadata": {},
   "outputs": [
    {
     "name": "stdout",
     "output_type": "stream",
     "text": [
      "/home/jupyter/credit_card_trained/export/exporter/1573531325\n",
      "ALL_CLASS_IDS  ALL_CLASSES   CLASS_IDS  CLASSES  KEY         LOGISTIC  LOGITS               PROBABILITIES\n",
      "[0, 1]         [u'0', u'1']  [1]        [u'1']   [u'nokey']  [1.0]     [1351.939208984375]  [0.0, 1.0]\n"
     ]
    },
    {
     "name": "stderr",
     "output_type": "stream",
     "text": [
      "If the signature defined in the model is not serving_default then you must specify it via --signature-name flag, otherwise the command may fail.\n",
      "WARNING: WARNING:tensorflow:From /usr/lib/google-cloud-sdk/lib/third_party/ml_sdk/cloud/ml/prediction/frameworks/tf_prediction_lib.py:48: The name tf.saved_model.tag_constants.SERVING is deprecated. Please use tf.saved_model.SERVING instead.\n",
      "\n",
      "WARNING:tensorflow:From /usr/lib/google-cloud-sdk/lib/third_party/ml_sdk/cloud/ml/prediction/frameworks/tf_prediction_lib.py:50: The name tf.saved_model.signature_constants.DEFAULT_SERVING_SIGNATURE_DEF_KEY is deprecated. Please use tf.saved_model.DEFAULT_SERVING_SIGNATURE_DEF_KEY instead.\n",
      "\n",
      "WARNING:tensorflow:From /usr/lib/google-cloud-sdk/lib/third_party/ml_sdk/cloud/ml/prediction/frameworks/tf_prediction_lib.py:601: The name tf.gfile.IsDirectory is deprecated. Please use tf.io.gfile.isdir instead.\n",
      "\n",
      "WARNING:tensorflow:From /usr/lib/google-cloud-sdk/lib/third_party/ml_sdk/cloud/ml/prediction/frameworks/tf_prediction_lib.py:221: The name tf.saved_model.loader.maybe_saved_model_directory is deprecated. Please use tf.compat.v1.saved_model.loader.maybe_saved_model_directory instead.\n",
      "\n",
      "WARNING:tensorflow:From /usr/lib/google-cloud-sdk/lib/third_party/ml_sdk/cloud/ml/prediction/frameworks/tf_prediction_lib.py:228: The name tf.Session is deprecated. Please use tf.compat.v1.Session instead.\n",
      "\n",
      "WARNING:tensorflow:From /usr/lib/google-cloud-sdk/lib/third_party/ml_sdk/cloud/ml/prediction/frameworks/tf_prediction_lib.py:228: The name tf.Session is deprecated. Please use tf.compat.v1.Session instead.\n",
      "\n",
      "2019-11-12 04:06:24.224853: I tensorflow/core/platform/cpu_feature_guard.cc:145] This TensorFlow binary is optimized with Intel(R) MKL-DNN to use the following CPU instructions in performance critical operations:  AVX2 FMA\n",
      "To enable them in non-MKL-DNN operations, rebuild TensorFlow with the appropriate compiler flags.\n",
      "2019-11-12 04:06:24.234237: I tensorflow/core/platform/profile_utils/cpu_utils.cc:94] CPU Frequency: 2200000000 Hz\n",
      "2019-11-12 04:06:24.234591: I tensorflow/compiler/xla/service/service.cc:168] XLA service 0x55bd2a81b2c0 initialized for platform Host (this does not guarantee that XLA will be used). Devices:\n",
      "2019-11-12 04:06:24.234679: I tensorflow/compiler/xla/service/service.cc:176]   StreamExecutor device (0): Host, Default Version\n",
      "2019-11-12 04:06:24.235116: I tensorflow/core/common_runtime/process_util.cc:115] Creating new thread pool with default inter op setting: 2. Tune using inter_op_parallelism_threads for best performance.\n",
      "WARNING:tensorflow:From /usr/lib/google-cloud-sdk/lib/third_party/ml_sdk/cloud/ml/prediction/frameworks/tf_prediction_lib.py:230: load (from tensorflow.python.saved_model.loader_impl) is deprecated and will be removed in a future version.\n",
      "Instructions for updating:\n",
      "This function will only be available through the v1 compatibility library as tf.compat.v1.saved_model.loader.load or tf.compat.v1.saved_model.load. There will be a new function for importing SavedModels in Tensorflow 2.0.\n",
      "WARNING:tensorflow:From /usr/lib/google-cloud-sdk/lib/third_party/ml_sdk/cloud/ml/prediction/frameworks/tf_prediction_lib.py:230: load (from tensorflow.python.saved_model.loader_impl) is deprecated and will be removed in a future version.\n",
      "Instructions for updating:\n",
      "This function will only be available through the v1 compatibility library as tf.compat.v1.saved_model.loader.load or tf.compat.v1.saved_model.load. There will be a new function for importing SavedModels in Tensorflow 2.0.\n",
      "\n"
     ]
    }
   ],
   "source": [
    "%%bash\n",
    "MODEL_LOCATION=$(ls -d $(pwd)/credit_card_trained/export/exporter/* | tail -1)\n",
    "echo $MODEL_LOCATION\n",
    "gcloud ai-platform local predict --model-dir=$MODEL_LOCATION --json-instances=inputs.json"
   ]
  },
  {
   "cell_type": "code",
   "execution_count": 99,
   "metadata": {},
   "outputs": [
    {
     "data": {
      "text/plain": [
       "0.0"
      ]
     },
     "execution_count": 99,
     "metadata": {},
     "output_type": "execute_result"
    }
   ],
   "source": [
    "df.iloc[100]['default_payment']"
   ]
  },
  {
   "cell_type": "markdown",
   "metadata": {},
   "source": [
    "Since the model was run over 1 training example as a test, it's not surprising that it has mis-classified the input."
   ]
  },
  {
   "cell_type": "markdown",
   "metadata": {},
   "source": [
    "<a id='hyperparameters'></a>"
   ]
  },
  {
   "cell_type": "markdown",
   "metadata": {},
   "source": [
    "## Tuning Hyperparameters\n",
    "\n",
    "It's very important to tune hyperparameters. We'll create a file with different options for batch size, number of embeddings, and number of hidden layers, and we'll run the model with this file. We can choose the best options that have the highest AUC values (the rmse metric that we have added to the model). I have added an early stopping option to avoid overfitting:"
   ]
  },
  {
   "cell_type": "code",
   "execution_count": 100,
   "metadata": {},
   "outputs": [
    {
     "name": "stdout",
     "output_type": "stream",
     "text": [
      "Writing hyperparam.yaml\n"
     ]
    }
   ],
   "source": [
    "%%writefile hyperparam.yaml\n",
    "trainingInput:\n",
    "  scaleTier: STANDARD_1\n",
    "  hyperparameters:\n",
    "    hyperparameterMetricTag: rmse\n",
    "    goal: MINIMIZE\n",
    "    maxTrials: 20\n",
    "    maxParallelTrials: 5\n",
    "    enableTrialEarlyStopping: True\n",
    "    params:\n",
    "    - parameterName: batch_size\n",
    "      type: INTEGER\n",
    "      minValue: 8\n",
    "      maxValue: 512\n",
    "      scaleType: UNIT_LOG_SCALE\n",
    "    - parameterName: nembeds\n",
    "      type: INTEGER\n",
    "      minValue: 3\n",
    "      maxValue: 30\n",
    "      scaleType: UNIT_LINEAR_SCALE\n",
    "    - parameterName: nnsize\n",
    "      type: INTEGER\n",
    "      minValue: 64\n",
    "      maxValue: 512\n",
    "      scaleType: UNIT_LOG_SCALE"
   ]
  },
  {
   "cell_type": "code",
   "execution_count": 101,
   "metadata": {},
   "outputs": [
    {
     "name": "stdout",
     "output_type": "stream",
     "text": [
      "gs://credit_card_default/credit_card/hyperparam us-central1 credit_crad_191112_041251\n",
      "jobId: credit_crad_191112_041251\n",
      "state: QUEUED\n"
     ]
    },
    {
     "name": "stderr",
     "output_type": "stream",
     "text": [
      "CommandException: 1 files/objects could not be removed.\n",
      "Job [credit_crad_191112_041251] submitted successfully.\n",
      "Your job is still active. You may view the status of your job with the command\n",
      "\n",
      "  $ gcloud ai-platform jobs describe credit_crad_191112_041251\n",
      "\n",
      "or continue streaming the logs with the command\n",
      "\n",
      "  $ gcloud ai-platform jobs stream-logs credit_crad_191112_041251\n"
     ]
    }
   ],
   "source": [
    "%%bash\n",
    "OUTDIR=gs://${BUCKET}/credit_card/hyperparam\n",
    "JOBNAME=credit_crad_$(date -u +%y%m%d_%H%M%S)\n",
    "echo $OUTDIR $REGION $JOBNAME\n",
    "gsutil -m rm -rf $OUTDIR\n",
    "gcloud ai-platform jobs submit training $JOBNAME \\\n",
    "  --region=$REGION \\\n",
    "  --module-name=trainer.task \\\n",
    "  --package-path=$(pwd)/credit_card/trainer \\\n",
    "  --job-dir=$OUTDIR \\\n",
    "  --staging-bucket=gs://$BUCKET \\\n",
    "  --scale-tier=STANDARD_1 \\\n",
    "  --config=hyperparam.yaml \\\n",
    "  --runtime-version=1.14 \\\n",
    "  -- \\\n",
    "  --bucket=${BUCKET} \\\n",
    "  --output_dir=${OUTDIR} \\\n",
    "  --eval_steps=10 "
   ]
  },
  {
   "cell_type": "markdown",
   "metadata": {},
   "source": [
    "Let's output the results of the hyperparameter tuning to see which combination of hyperparameters provided the higherst AUC values:"
   ]
  },
  {
   "cell_type": "code",
   "execution_count": 103,
   "metadata": {},
   "outputs": [
    {
     "name": "stdout",
     "output_type": "stream",
     "text": [
      "createTime: '2019-11-12T04:12:54Z'\n",
      "endTime: '2019-11-12T04:50:12Z'\n",
      "etag: T2N_YAl_cF0=\n",
      "jobId: credit_crad_191112_041251\n",
      "startTime: '2019-11-12T04:12:58Z'\n",
      "state: SUCCEEDED\n",
      "trainingInput:\n",
      "  args:\n",
      "  - --bucket=credit_card_default\n",
      "  - --output_dir=gs://credit_card_default/credit_card/hyperparam\n",
      "  - --eval_steps=10\n",
      "  hyperparameters:\n",
      "    enableTrialEarlyStopping: true\n",
      "    goal: MINIMIZE\n",
      "    hyperparameterMetricTag: rmse\n",
      "    maxParallelTrials: 5\n",
      "    maxTrials: 20\n",
      "    params:\n",
      "    - maxValue: 512.0\n",
      "      minValue: 8.0\n",
      "      parameterName: batch_size\n",
      "      scaleType: UNIT_LOG_SCALE\n",
      "      type: INTEGER\n",
      "    - maxValue: 30.0\n",
      "      minValue: 3.0\n",
      "      parameterName: nembeds\n",
      "      scaleType: UNIT_LINEAR_SCALE\n",
      "      type: INTEGER\n",
      "    - maxValue: 512.0\n",
      "      minValue: 64.0\n",
      "      parameterName: nnsize\n",
      "      scaleType: UNIT_LOG_SCALE\n",
      "      type: INTEGER\n",
      "  jobDir: gs://credit_card_default/credit_card/hyperparam\n",
      "  packageUris:\n",
      "  - gs://credit_card_default/credit_crad_191112_041251/b94dda8a21f38be7ab085b5a88a40ef111398ff4838eef2a6a534a7242a0c50e/trainer-0.0.0.tar.gz\n",
      "  pythonModule: trainer.task\n",
      "  region: us-central1\n",
      "  runtimeVersion: '1.14'\n",
      "  scaleTier: STANDARD_1\n",
      "trainingOutput:\n",
      "  completedTrialCount: '20'\n",
      "  consumedMLUnits: 13.51\n",
      "  hyperparameterMetricTag: rmse\n",
      "  isHyperparameterTuningJob: true\n",
      "  trials:\n",
      "  - endTime: '2019-11-12T04:32:31Z'\n",
      "    finalMetric:\n",
      "      objectiveValue: 0.511874\n",
      "      trainingStep: '7379'\n",
      "    hyperparameters:\n",
      "      batch_size: '407'\n",
      "      nembeds: '5'\n",
      "      nnsize: '157'\n",
      "    startTime: '2019-11-12T04:29:59.173405307Z'\n",
      "    state: SUCCEEDED\n",
      "    trialId: '7'\n",
      "  - endTime: '2019-11-12T04:40:37Z'\n",
      "    finalMetric:\n",
      "      objectiveValue: 0.528173\n",
      "      trainingStep: '5866'\n",
      "    hyperparameters:\n",
      "      batch_size: '512'\n",
      "      nembeds: '3'\n",
      "      nnsize: '74'\n",
      "    startTime: '2019-11-12T04:37:04.678048433Z'\n",
      "    state: SUCCEEDED\n",
      "    trialId: '14'\n",
      "  - endTime: '2019-11-12T04:42:37Z'\n",
      "    finalMetric:\n",
      "      objectiveValue: 0.545544\n",
      "      trainingStep: '6056'\n",
      "    hyperparameters:\n",
      "      batch_size: '496'\n",
      "      nembeds: '7'\n",
      "      nnsize: '67'\n",
      "    startTime: '2019-11-12T04:40:05.536575481Z'\n",
      "    state: SUCCEEDED\n",
      "    trialId: '15'\n",
      "  - endTime: '2019-11-12T04:33:53Z'\n",
      "    finalMetric:\n",
      "      objectiveValue: 0.546579\n",
      "      trainingStep: '8506'\n",
      "    hyperparameters:\n",
      "      batch_size: '353'\n",
      "      nembeds: '16'\n",
      "      nnsize: '91'\n",
      "    startTime: '2019-11-12T04:31:21.369595768Z'\n",
      "    state: SUCCEEDED\n",
      "    trialId: '9'\n",
      "  - endTime: '2019-11-12T04:45:14Z'\n",
      "    finalMetric:\n",
      "      objectiveValue: 0.550967\n",
      "      trainingStep: '5972'\n",
      "    hyperparameters:\n",
      "      batch_size: '503'\n",
      "      nembeds: '4'\n",
      "      nnsize: '65'\n",
      "    startTime: '2019-11-12T04:42:42.723400796Z'\n",
      "    state: SUCCEEDED\n",
      "    trialId: '18'\n",
      "  - endTime: '2019-11-12T04:27:58Z'\n",
      "    finalMetric:\n",
      "      objectiveValue: 0.5518\n",
      "      trainingStep: '37981'\n",
      "    hyperparameters:\n",
      "      batch_size: '79'\n",
      "      nembeds: '20'\n",
      "      nnsize: '66'\n",
      "    startTime: '2019-11-12T04:13:04.088948422Z'\n",
      "    state: SUCCEEDED\n",
      "    trialId: '3'\n",
      "  - endTime: '2019-11-12T04:30:29Z'\n",
      "    finalMetric:\n",
      "      objectiveValue: 0.551837\n",
      "      trainingStep: '214291'\n",
      "    hyperparameters:\n",
      "      batch_size: '14'\n",
      "      nembeds: '10'\n",
      "      nnsize: '88'\n",
      "    startTime: '2019-11-12T04:13:04.089036462Z'\n",
      "    state: SUCCEEDED\n",
      "    trialId: '5'\n",
      "  - endTime: '2019-11-12T04:46:55Z'\n",
      "    finalMetric:\n",
      "      objectiveValue: 0.560123\n",
      "      trainingStep: '6130'\n",
      "    hyperparameters:\n",
      "      batch_size: '490'\n",
      "      nembeds: '3'\n",
      "      nnsize: '74'\n",
      "    startTime: '2019-11-12T04:44:31.529026346Z'\n",
      "    state: SUCCEEDED\n",
      "    trialId: '19'\n",
      "  - endTime: '2019-11-12T04:38:57Z'\n",
      "    finalMetric:\n",
      "      objectiveValue: 0.562467\n",
      "      trainingStep: '6080'\n",
      "    hyperparameters:\n",
      "      batch_size: '494'\n",
      "      nembeds: '4'\n",
      "      nnsize: '65'\n",
      "    startTime: '2019-11-12T04:36:25.176542355Z'\n",
      "    state: SUCCEEDED\n",
      "    trialId: '13'\n",
      "  - endTime: '2019-11-12T04:46:50Z'\n",
      "    finalMetric:\n",
      "      objectiveValue: 0.563075\n",
      "      trainingStep: '5867'\n",
      "    hyperparameters:\n",
      "      batch_size: '512'\n",
      "      nembeds: '3'\n",
      "      nnsize: '77'\n",
      "    startTime: '2019-11-12T04:44:31.529274839Z'\n",
      "    state: SUCCEEDED\n",
      "    trialId: '20'\n",
      "  - endTime: '2019-11-12T04:42:51Z'\n",
      "    finalMetric:\n",
      "      objectiveValue: 0.565357\n",
      "      trainingStep: '375006'\n",
      "    hyperparameters:\n",
      "      batch_size: '8'\n",
      "      nembeds: '29'\n",
      "      nnsize: '65'\n",
      "    startTime: '2019-11-12T04:33:47.591219177Z'\n",
      "    state: SUCCEEDED\n",
      "    trialId: '11'\n",
      "  - endTime: '2019-11-12T04:30:08Z'\n",
      "    finalMetric:\n",
      "      objectiveValue: 0.565695\n",
      "      trainingStep: '23629'\n",
      "    hyperparameters:\n",
      "      batch_size: '127'\n",
      "      nembeds: '22'\n",
      "      nnsize: '85'\n",
      "    startTime: '2019-11-12T04:27:36.051801970Z'\n",
      "    state: SUCCEEDED\n",
      "    trialId: '6'\n",
      "  - endTime: '2019-11-12T04:42:40Z'\n",
      "    finalMetric:\n",
      "      objectiveValue: 0.570119\n",
      "      trainingStep: '5867'\n",
      "    hyperparameters:\n",
      "      batch_size: '512'\n",
      "      nembeds: '4'\n",
      "      nnsize: '69'\n",
      "    startTime: '2019-11-12T04:40:07.653188415Z'\n",
      "    state: SUCCEEDED\n",
      "    trialId: '16'\n",
      "  - endTime: '2019-11-12T04:48:36Z'\n",
      "    finalMetric:\n",
      "      objectiveValue: 0.575382\n",
      "      trainingStep: '214292'\n",
      "    hyperparameters:\n",
      "      batch_size: '14'\n",
      "      nembeds: '10'\n",
      "      nnsize: '88'\n",
      "    startTime: '2019-11-12T04:42:03.631545913Z'\n",
      "    state: SUCCEEDED\n",
      "    trialId: '17'\n",
      "  - endTime: '2019-11-12T04:39:04Z'\n",
      "    finalMetric:\n",
      "      objectiveValue: 0.582364\n",
      "      trainingStep: '120008'\n",
      "    hyperparameters:\n",
      "      batch_size: '25'\n",
      "      nembeds: '17'\n",
      "      nnsize: '109'\n",
      "    startTime: '2019-11-12T04:34:31.779456628Z'\n",
      "    state: SUCCEEDED\n",
      "    trialId: '12'\n",
      "  - endTime: '2019-11-12T04:35:12Z'\n",
      "    finalMetric:\n",
      "      objectiveValue: 0.585503\n",
      "      trainingStep: '100006'\n",
      "    hyperparameters:\n",
      "      batch_size: '30'\n",
      "      nembeds: '15'\n",
      "      nnsize: '339'\n",
      "    startTime: '2019-11-12T04:30:40.293687416Z'\n",
      "    state: SUCCEEDED\n",
      "    trialId: '8'\n",
      "  - endTime: '2019-11-12T04:29:24Z'\n",
      "    finalMetric:\n",
      "      objectiveValue: 0.588648\n",
      "      trainingStep: '103454'\n",
      "    hyperparameters:\n",
      "      batch_size: '29'\n",
      "      nembeds: '29'\n",
      "      nnsize: '211'\n",
      "    startTime: '2019-11-12T04:13:04.088993275Z'\n",
      "    state: SUCCEEDED\n",
      "    trialId: '4'\n",
      "  - endTime: '2019-11-12T04:29:05Z'\n",
      "    finalMetric:\n",
      "      objectiveValue: 0.59341\n",
      "      trainingStep: '120005'\n",
      "    hyperparameters:\n",
      "      batch_size: '25'\n",
      "      nembeds: '17'\n",
      "      nnsize: '109'\n",
      "    startTime: '2019-11-12T04:13:04.088651046Z'\n",
      "    state: SUCCEEDED\n",
      "    trialId: '1'\n",
      "  - endTime: '2019-11-12T04:38:34Z'\n",
      "    finalMetric:\n",
      "      objectiveValue: 0.616895\n",
      "      trainingStep: '230777'\n",
      "    hyperparameters:\n",
      "      batch_size: '13'\n",
      "      nembeds: '23'\n",
      "      nnsize: '455'\n",
      "    startTime: '2019-11-12T04:32:01.045391212Z'\n",
      "    state: SUCCEEDED\n",
      "    trialId: '10'\n",
      "  - endTime: '2019-11-12T04:24:34Z'\n",
      "    finalMetric:\n",
      "      objectiveValue: 0.618212\n",
      "      trainingStep: '14859'\n",
      "    hyperparameters:\n",
      "      batch_size: '202'\n",
      "      nembeds: '8'\n",
      "      nnsize: '378'\n",
      "    startTime: '2019-11-12T04:13:04.088875282Z'\n",
      "    state: SUCCEEDED\n",
      "    trialId: '2'\n"
     ]
    },
    {
     "name": "stderr",
     "output_type": "stream",
     "text": [
      "\n",
      "View job in the Cloud Console at:\n",
      "https://console.cloud.google.com/mlengine/jobs/credit_crad_191112_041251?project=subtle-digit-257500\n",
      "\n",
      "View logs at:\n",
      "https://console.cloud.google.com/logs?resource=ml.googleapis.com%2Fjob_id%2Fcredit_crad_191112_041251&project=subtle-digit-257500\n"
     ]
    }
   ],
   "source": [
    "%%bash\n",
    "gcloud ai-platform jobs describe credit_crad_191112_041251"
   ]
  },
  {
   "cell_type": "markdown",
   "metadata": {},
   "source": [
    "The best result is given for batch_size of 202, nembeds=8, and nnsize=378, with AUC=0.618212.\n",
    "\n",
    "We'll repeat the training with the tuned parameters."
   ]
  },
  {
   "cell_type": "code",
   "execution_count": 104,
   "metadata": {},
   "outputs": [
    {
     "name": "stdout",
     "output_type": "stream",
     "text": [
      "gs://credit_card_default/credit_card/trained_model_tuned us-central1 credit_card_191112_135128\n",
      "jobId: credit_card_191112_135128\n",
      "state: QUEUED\n"
     ]
    },
    {
     "name": "stderr",
     "output_type": "stream",
     "text": [
      "CommandException: 1 files/objects could not be removed.\n",
      "Job [credit_card_191112_135128] submitted successfully.\n",
      "Your job is still active. You may view the status of your job with the command\n",
      "\n",
      "  $ gcloud ai-platform jobs describe credit_card_191112_135128\n",
      "\n",
      "or continue streaming the logs with the command\n",
      "\n",
      "  $ gcloud ai-platform jobs stream-logs credit_card_191112_135128\n"
     ]
    }
   ],
   "source": [
    "%%bash\n",
    "OUTDIR=gs://${BUCKET}/credit_card/trained_model_tuned\n",
    "JOBNAME=credit_card_$(date -u +%y%m%d_%H%M%S)\n",
    "echo $OUTDIR $REGION $JOBNAME\n",
    "gsutil -m rm -rf $OUTDIR\n",
    "gcloud ai-platform jobs submit training $JOBNAME \\\n",
    "  --region=$REGION \\\n",
    "  --module-name=trainer.task \\\n",
    "  --package-path=$(pwd)/credit_card/trainer \\\n",
    "  --job-dir=$OUTDIR \\\n",
    "  --staging-bucket=gs://$BUCKET \\\n",
    "  --scale-tier=STANDARD_1 \\\n",
    "  --runtime-version=1.14 \\\n",
    "  -- \\\n",
    "  --bucket=${BUCKET} \\\n",
    "  --output_dir=${OUTDIR} \\\n",
    "  --batch_size=202 --nembeds=8 --nnsize=378"
   ]
  },
  {
   "cell_type": "code",
   "execution_count": 106,
   "metadata": {},
   "outputs": [
    {
     "name": "stdout",
     "output_type": "stream",
     "text": [
      "createTime: '2019-11-12T13:51:32Z'\n",
      "endTime: '2019-11-12T13:59:57Z'\n",
      "etag: BeComPlsMWQ=\n",
      "jobId: credit_card_191112_135128\n",
      "startTime: '2019-11-12T13:57:56Z'\n",
      "state: SUCCEEDED\n",
      "trainingInput:\n",
      "  args:\n",
      "  - --bucket=credit_card_default\n",
      "  - --output_dir=gs://credit_card_default/credit_card/trained_model_tuned\n",
      "  - --batch_size=202\n",
      "  - --nembeds=8\n",
      "  - --nnsize=378\n",
      "  jobDir: gs://credit_card_default/credit_card/trained_model_tuned\n",
      "  packageUris:\n",
      "  - gs://credit_card_default/credit_card_191112_135128/41411cdab1a6dcce760f0c30664c6e2f08259ec47f0c0a7eecf79da89636fe00/trainer-0.0.0.tar.gz\n",
      "  pythonModule: trainer.task\n",
      "  region: us-central1\n",
      "  runtimeVersion: '1.14'\n",
      "  scaleTier: STANDARD_1\n",
      "trainingOutput:\n",
      "  consumedMLUnits: 0.68\n"
     ]
    },
    {
     "name": "stderr",
     "output_type": "stream",
     "text": [
      "\n",
      "View job in the Cloud Console at:\n",
      "https://console.cloud.google.com/mlengine/jobs/credit_card_191112_135128?project=subtle-digit-257500\n",
      "\n",
      "View logs at:\n",
      "https://console.cloud.google.com/logs?resource=ml.googleapis.com%2Fjob_id%2Fcredit_card_191112_135128&project=subtle-digit-257500\n"
     ]
    }
   ],
   "source": [
    "%%bash\n",
    "gcloud ai-platform jobs describe credit_card_191112_135128"
   ]
  },
  {
   "cell_type": "markdown",
   "metadata": {},
   "source": [
    "<a id='deploy'></a>"
   ]
  },
  {
   "cell_type": "markdown",
   "metadata": {},
   "source": [
    "## Deploying and Predicting with the Model\n",
    "\n",
    "It's now time to use the model that we built to make predictions."
   ]
  },
  {
   "cell_type": "code",
   "execution_count": 107,
   "metadata": {},
   "outputs": [
    {
     "name": "stdout",
     "output_type": "stream",
     "text": [
      "gs://credit_card_default/credit_card/trained_model_tuned/export/exporter/\n",
      "gs://credit_card_default/credit_card/trained_model_tuned/export/exporter/1573567167/\n"
     ]
    }
   ],
   "source": [
    "%%bash\n",
    "gsutil ls gs://${BUCKET}/credit_card/trained_model_tuned/export/exporter/"
   ]
  },
  {
   "cell_type": "markdown",
   "metadata": {},
   "source": [
    "After locating the exporter files, we can go ahead and create the model and its version on AI platform."
   ]
  },
  {
   "cell_type": "code",
   "execution_count": 109,
   "metadata": {},
   "outputs": [
    {
     "name": "stdout",
     "output_type": "stream",
     "text": [
      "Deleting and deploying credit_card ml_on_gcp from gs://credit_card_default/credit_card/trained_model_tuned/export/exporter/1573567167/ ... this will take a few minutes\n"
     ]
    },
    {
     "name": "stderr",
     "output_type": "stream",
     "text": [
      "Creating version (this might take a few minutes)......\n",
      "............................................................................................................................................................................................................................................................................................................................................................................................................................................................................................................................................................................................................................................................................................................................................................................................................................................................................................................................................................................................................................................................................................................................................................................................................................................................................................................................................................................................................................................................................................................................................................................................................................................................................................................................................................................................................................................................................................................................................................................................................................................................................................................................................................................................................................................................................................................................................................................................................................................................................................................................................................................done.\n"
     ]
    }
   ],
   "source": [
    "%%bash\n",
    "MODEL_NAME=\"credit_card\"\n",
    "MODEL_VERSION=\"ml_on_gcp\"\n",
    "MODEL_LOCATION=$(gsutil ls gs://${BUCKET}/credit_card/trained_model_tuned/export/exporter/ | tail -1)\n",
    "echo \"Deleting and deploying $MODEL_NAME $MODEL_VERSION from $MODEL_LOCATION ... this will take a few minutes\"\n",
    "#gcloud ai-platform versions delete ${MODEL_VERSION} --model ${MODEL_NAME}\n",
    "#gcloud ai-platform models delete ${MODEL_NAME}\n",
    "#gcloud ai-platform models create ${MODEL_NAME} --regions $REGION\n",
    "gcloud ai-platform versions create ${MODEL_VERSION} --model ${MODEL_NAME} --origin ${MODEL_LOCATION} --runtime-version 1.14"
   ]
  },
  {
   "cell_type": "markdown",
   "metadata": {},
   "source": [
    "<a id='predict'></a>"
   ]
  },
  {
   "cell_type": "markdown",
   "metadata": {},
   "source": [
    "## Online prediction\n",
    "\n",
    "Let's create a json file with the input values for the feature columns we'd like to make the predictions based on, and use google api to feed it to our model online:"
   ]
  },
  {
   "cell_type": "code",
   "execution_count": 110,
   "metadata": {},
   "outputs": [
    {
     "name": "stdout",
     "output_type": "stream",
     "text": [
      "b'{\"predictions\": [{\"all_class_ids\": [0, 1], \"all_classes\": [\"0\", \"1\"], \"logistic\": [0.0], \"probabilities\": [1.0, 0.0], \"classes\": [\"0\"], \"key\": [\"m1\"], \"class_ids\": [0], \"logits\": [-367.32861328125]}]}'\n"
     ]
    }
   ],
   "source": [
    "from oauth2client.client import GoogleCredentials\n",
    "import requests\n",
    "import json\n",
    "\n",
    "MODEL_NAME = 'credit_card'\n",
    "MODEL_VERSION = 'ml_on_gcp'\n",
    "\n",
    "token = GoogleCredentials.get_application_default().get_access_token().access_token\n",
    "api = 'https://ml.googleapis.com/v1/projects/{}/models/{}/versions/{}:predict' \\\n",
    "         .format(PROJECT, MODEL_NAME, MODEL_VERSION)\n",
    "headers = {'Authorization': 'Bearer ' + token }\n",
    "data = {\n",
    "  'instances': [\n",
    "    { 'key': 'm1',\n",
    "      'LIMIT_BAL': 330000.0, \n",
    "      'SEX': 'Male', \n",
    "      'MARRIAGE': 'Single',\n",
    "      'EDUCATION': 'Graduate', \n",
    "      'AGE': 25.0,\n",
    "      'PAY_1': 0.0,\n",
    "      'PAY_2': 0.0,\n",
    "      'PAY_3': 0.0,\n",
    "      'PAY_4': 0.0,\n",
    "      'PAY_5': 2.0,\n",
    "      'PAY_6': 0.0,\n",
    "      'BILL_AMT1': 46140.0,\n",
    "      'BILL_AMT2': 45781.0,\n",
    "      'BILL_AMT3': 48139.0,\n",
    "      'BILL_AMT4': 51137.0,\n",
    "      'BILL_AMT5': 39450.0,\n",
    "      'BILL_AMT6': 25358.0,\n",
    "      'PAY_AMT1': 2504.0,\n",
    "      'PAY_AMT2': 4007.0,\n",
    "      'PAY_AMT3': 5056.0,\n",
    "      'PAY_AMT4': 74.0,\n",
    "      'PAY_AMT5': 1023.0,\n",
    "      'PAY_AMT6': 2566.0\n",
    "    },\n",
    "  ]\n",
    "}\n",
    "response = requests.post(api, json=data, headers=headers)\n",
    "print(response.content)"
   ]
  },
  {
   "cell_type": "markdown",
   "metadata": {},
   "source": [
    "We can see that the model has correctly classified the category."
   ]
  }
 ],
 "metadata": {
  "kernelspec": {
   "display_name": "Python 3",
   "language": "python",
   "name": "python3"
  },
  "language_info": {
   "codemirror_mode": {
    "name": "ipython",
    "version": 3
   },
   "file_extension": ".py",
   "mimetype": "text/x-python",
   "name": "python",
   "nbconvert_exporter": "python",
   "pygments_lexer": "ipython3",
   "version": "3.6.8"
  }
 },
 "nbformat": 4,
 "nbformat_minor": 4
}
